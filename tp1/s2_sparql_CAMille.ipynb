{
 "cells": [
  {
   "cell_type": "markdown",
   "metadata": {},
   "source": [
    "# Bases de connaissance : interroger Wikidata à l'aide de requêtes SPARQL"
   ]
  },
  {
   "cell_type": "markdown",
   "metadata": {},
   "source": [
    "## Imports"
   ]
  },
  {
   "cell_type": "code",
   "execution_count": 2,
   "metadata": {},
   "outputs": [],
   "source": [
    "from datetime import datetime as dt\n",
    "from SPARQLWrapper import SPARQLWrapper, JSON"
   ]
  },
  {
   "cell_type": "markdown",
   "metadata": {},
   "source": [
    "## Obtenir la liste des journalistes belges qui étaient également écrivain"
   ]
  },
  {
   "cell_type": "code",
   "execution_count": 26,
   "metadata": {},
   "outputs": [
    {
     "name": "stdout",
     "output_type": "stream",
     "text": [
      "\n",
      "279 Belgian journalists found\n",
      "\n",
      "[{'person': {'type': 'uri', 'value': 'http://www.wikidata.org/entity/Q179296'}, 'personLabel': {'xml:lang': 'en', 'type': 'literal', 'value': 'Achille Delattre'}, 'dateBirth': {'datatype': 'http://www.w3.org/2001/XMLSchema#dateTime', 'type': 'literal', 'value': '1879-08-24T00:00:00Z'}, 'dateDeath': {'datatype': 'http://www.w3.org/2001/XMLSchema#dateTime', 'type': 'literal', 'value': '1964-07-13T00:00:00Z'}}, {'person': {'type': 'uri', 'value': 'http://www.wikidata.org/entity/Q3605493'}, 'personLabel': {'xml:lang': 'en', 'type': 'literal', 'value': 'Adolphe Bartels'}, 'dateBirth': {'datatype': 'http://www.w3.org/2001/XMLSchema#dateTime', 'type': 'literal', 'value': '1802-08-24T00:00:00Z'}, 'dateDeath': {'datatype': 'http://www.w3.org/2001/XMLSchema#dateTime', 'type': 'literal', 'value': '1862-01-01T00:00:00Z'}}, {'person': {'type': 'uri', 'value': 'http://www.wikidata.org/entity/Q14870041'}, 'personLabel': {'xml:lang': 'en', 'type': 'literal', 'value': 'Adrien Jans'}, 'dateBirth': {'datatype': 'http://www.w3.org/2001/XMLSchema#dateTime', 'type': 'literal', 'value': '1905-10-22T00:00:00Z'}, 'dateDeath': {'datatype': 'http://www.w3.org/2001/XMLSchema#dateTime', 'type': 'literal', 'value': '1973-09-24T00:00:00Z'}}, {'person': {'type': 'uri', 'value': 'http://www.wikidata.org/entity/Q20127454'}, 'personLabel': {'xml:lang': 'en', 'type': 'literal', 'value': 'Alain Lallemand'}, 'dateBirth': {'datatype': 'http://www.w3.org/2001/XMLSchema#dateTime', 'type': 'literal', 'value': '1962-07-12T00:00:00Z'}}, {'person': {'type': 'uri', 'value': 'http://www.wikidata.org/entity/Q2830406'}, 'personLabel': {'xml:lang': 'en', 'type': 'literal', 'value': 'Alain de Prelle'}, 'dateBirth': {'datatype': 'http://www.w3.org/2001/XMLSchema#dateTime', 'type': 'literal', 'value': '1922-11-30T00:00:00Z'}, 'dateDeath': {'datatype': 'http://www.w3.org/2001/XMLSchema#dateTime', 'type': 'literal', 'value': '1955-08-23T00:00:00Z'}}, {'person': {'type': 'uri', 'value': 'http://www.wikidata.org/entity/Q972661'}, 'personLabel': {'xml:lang': 'en', 'type': 'literal', 'value': 'Albert Giraud'}, 'dateBirth': {'datatype': 'http://www.w3.org/2001/XMLSchema#dateTime', 'type': 'literal', 'value': '1860-06-23T00:00:00Z'}, 'dateDeath': {'datatype': 'http://www.w3.org/2001/XMLSchema#dateTime', 'type': 'literal', 'value': '1929-12-26T00:00:00Z'}}, {'person': {'type': 'uri', 'value': 'http://www.wikidata.org/entity/Q2370457'}, 'personLabel': {'xml:lang': 'en', 'type': 'literal', 'value': 'Albert van Hoogenbemt'}, 'dateBirth': {'datatype': 'http://www.w3.org/2001/XMLSchema#dateTime', 'type': 'literal', 'value': '1900-03-01T00:00:00Z'}, 'dateDeath': {'datatype': 'http://www.w3.org/2001/XMLSchema#dateTime', 'type': 'literal', 'value': '1964-01-17T00:00:00Z'}}, {'person': {'type': 'uri', 'value': 'http://www.wikidata.org/entity/Q2209028'}, 'personLabel': {'xml:lang': 'en', 'type': 'literal', 'value': 'Alex Rosseels'}, 'dateBirth': {'datatype': 'http://www.w3.org/2001/XMLSchema#dateTime', 'type': 'literal', 'value': '1948-09-09T00:00:00Z'}, 'dateDeath': {'datatype': 'http://www.w3.org/2001/XMLSchema#dateTime', 'type': 'literal', 'value': '1987-03-12T00:00:00Z'}}, {'person': {'type': 'uri', 'value': 'http://www.wikidata.org/entity/Q109768221'}, 'personLabel': {'xml:lang': 'en', 'type': 'literal', 'value': 'Aliénor Debrocq'}, 'dateBirth': {'datatype': 'http://www.w3.org/2001/XMLSchema#dateTime', 'type': 'literal', 'value': '1983-01-01T00:00:00Z'}}, {'person': {'type': 'uri', 'value': 'http://www.wikidata.org/entity/Q970036'}, 'personLabel': {'xml:lang': 'en', 'type': 'literal', 'value': 'Amand Neut'}, 'dateBirth': {'datatype': 'http://www.w3.org/2001/XMLSchema#dateTime', 'type': 'literal', 'value': '1812-07-08T00:00:00Z'}, 'dateDeath': {'datatype': 'http://www.w3.org/2001/XMLSchema#dateTime', 'type': 'literal', 'value': '1884-07-04T00:00:00Z'}}]\n"
     ]
    }
   ],
   "source": [
    "# Retrieve results from SPARQL\n",
    "endpoint = \"https://query.wikidata.org/bigdata/namespace/wdq/sparql\"\n",
    "sparql = SPARQLWrapper(endpoint)\n",
    "\n",
    "# P27 = country of citizenship \n",
    "# Q31 = Belgium\n",
    "# P106 = Opccupation\n",
    "# Q82955 = Politician\n",
    "# P569 = date of birth\n",
    "# P570 = date of death\n",
    "\n",
    "# Q1930187 = journaliste\n",
    "# Q36180 = écrivain\n",
    "\n",
    "statement = \"\"\"\n",
    "SELECT DISTINCT ?person ?personLabel ?dateBirth ?dateDeath WHERE {\n",
    "    ?person wdt:P27 wd:Q31 .\n",
    "    ?person wdt:P106 wd:Q1930187 .\n",
    "    ?person wdt:P106 wd:Q36180 .\n",
    "    ?person wdt:P569 ?dateBirth .\n",
    "    OPTIONAL {?person wdt:P570 ?dateDeath .}\n",
    "    SERVICE wikibase:label { bd:serviceParam wikibase:language \"en\" . }\n",
    "}\n",
    "ORDER BY ?personLabel\n",
    "\"\"\"\n",
    "\n",
    "sparql.setQuery(statement)\n",
    "sparql.setReturnFormat(JSON)\n",
    "results = sparql.query().convert()\n",
    "\n",
    "rows = results['results']['bindings']\n",
    "print(f\"\\n{len(rows)} Belgian journalists found\\n\")\n",
    "print(rows[:10]) "
   ]
  },
  {
   "cell_type": "markdown",
   "metadata": {},
   "source": [
    "## Filtrer pour n'afficher que les noms des journalistes écrivains belges mort lors de la seconde guerre mondiale"
   ]
  },
  {
   "cell_type": "code",
   "execution_count": 38,
   "metadata": {},
   "outputs": [
    {
     "name": "stdout",
     "output_type": "stream",
     "text": [
      "Gustave Fuss-Amoré (1877-1944)\n",
      "Horace Van Offel (1876-1944)\n",
      "Jean Gustave Schoup (1893-1944)\n",
      "Jean Gustave Schoup (1893-1944)\n",
      "Joris d'Hanswyck (1878-1942)\n",
      "Lode Zielens (1901-1944)\n",
      "Maurice Des Ombiaux (1868-1943)\n",
      "Paul Colin (1890-1943)\n",
      "Paul Colin (1890-1943)\n",
      "Paul Colin (1890-1943)\n",
      "Édouard Baudry (1905-1943)\n",
      "\n",
      "Il y a 11 résultats\n"
     ]
    }
   ],
   "source": [
    "date_filter_bottom = 1940\n",
    "date_filter_top = 1945\n",
    "count = 0\n",
    "\n",
    "filtered_rows = [row for row in rows]\n",
    "date_format = \"%Y-%m-%dT%H:%M:%SZ\"\n",
    "\n",
    "for row in filtered_rows[:]:\n",
    "    try:\n",
    "        birth_date = dt.strptime(row['dateBirth']['value'], date_format)\n",
    "        birth_year = birth_date.year\n",
    "    except ValueError:\n",
    "        birth_year = 0\n",
    "    try:\n",
    "        death_date = dt.strptime(row['dateDeath']['value'], date_format)\n",
    "        death_year = death_date.year\n",
    "    except ValueError: # unknown death date\n",
    "        death_year = 0\n",
    "    except KeyError: # still alive\n",
    "        death_year = 9999\n",
    "        #J'ai du changer les valeurs des excepts pou pouvoir faire des comparaisons de int entre int. Car avant on mettait des str dans les excepts et ça faisait planter la comparaison.\n",
    "    if date_filter_bottom < death_year and death_year < date_filter_top: \n",
    "        #j'ai dû descendre le if du filtered_rows ici car sinon je n'avais pas accès aux valeurs death_year et birht_year qui sont dans la boucle for\n",
    "        print(f\"{row['personLabel']['value']} ({birth_year}-{death_year})\")\n",
    "        count += 1\n",
    "\n",
    "print(f\"\\nIl y a {count} résultats\")"
   ]
  },
  {
   "cell_type": "markdown",
   "metadata": {},
   "source": [
    "## Pour en savoir plus"
   ]
  },
  {
   "cell_type": "markdown",
   "metadata": {},
   "source": [
    "- [Le projet Wikidata](https://www.wikidata.org/wiki/Wikidata:Main_Page)\n",
    "- [Aide à la construction de requêtes](https://query.wikidata.org/)"
   ]
  }
 ],
 "metadata": {
  "kernelspec": {
   "display_name": "Python 3.10.5 ('venv_tac': venv)",
   "language": "python",
   "name": "python3"
  },
  "language_info": {
   "codemirror_mode": {
    "name": "ipython",
    "version": 3
   },
   "file_extension": ".py",
   "mimetype": "text/x-python",
   "name": "python",
   "nbconvert_exporter": "python",
   "pygments_lexer": "ipython3",
   "version": "3.11.2"
  },
  "vscode": {
   "interpreter": {
    "hash": "a942b0119f0c2604d4302f32a2a6e790f63eb4c9b0c297be7a26bd56fa8e02c6"
   }
  }
 },
 "nbformat": 4,
 "nbformat_minor": 4
}
