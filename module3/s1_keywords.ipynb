{
 "cells": [
  {
   "cell_type": "markdown",
   "metadata": {},
   "source": [
    "# Extraction de Keywords"
   ]
  },
  {
   "cell_type": "markdown",
   "metadata": {},
   "source": [
    "## Imports"
   ]
  },
  {
   "cell_type": "code",
   "execution_count": 1,
   "metadata": {},
   "outputs": [],
   "source": [
    "import os\n",
    "import yake"
   ]
  },
  {
   "cell_type": "markdown",
   "metadata": {},
   "source": [
    "## Extraire les mots clés d'un document avec Yake"
   ]
  },
  {
   "cell_type": "markdown",
   "metadata": {},
   "source": [
    "https://github.com/LIAAD/yake"
   ]
  },
  {
   "cell_type": "code",
   "execution_count": 2,
   "metadata": {},
   "outputs": [
    {
     "data": {
      "text/plain": [
       "<yake.yake.KeywordExtractor at 0x7f746c915810>"
      ]
     },
     "execution_count": 2,
     "metadata": {},
     "output_type": "execute_result"
    }
   ],
   "source": [
    "# Instantier l'extracteur de mots clés\n",
    "kw_extractor = yake.KeywordExtractor(lan=\"fr\", top=50)\n",
    "kw_extractor"
   ]
  },
  {
   "cell_type": "code",
   "execution_count": 3,
   "metadata": {},
   "outputs": [],
   "source": [
    "# Lister les Fichiers\n",
    "data_path = \"../data/txt/\"\n",
    "files = [f for f in os.listdir(data_path) if f.endswith('.txt')]"
   ]
  },
  {
   "cell_type": "code",
   "execution_count": 4,
   "metadata": {},
   "outputs": [
    {
     "data": {
      "text/plain": [
       "51"
      ]
     },
     "execution_count": 4,
     "metadata": {},
     "output_type": "execute_result"
    }
   ],
   "source": [
    "# Imprimer le nombre de fichiers identifiés\n",
    "len(files)"
   ]
  },
  {
   "cell_type": "code",
   "execution_count": 5,
   "metadata": {},
   "outputs": [
    {
     "data": {
      "text/plain": [
       "['KB_JB773_1933-10-07_01-00007.txt',\n",
       " 'KB_JB773_1950-07-22_01-00010.txt',\n",
       " 'KB_JB638_1902-12-20_01-00002.txt',\n",
       " 'KB_JB92_1860-02-09_01-00003.txt',\n",
       " 'KB_JB421_1899-05-15_01-00003.txt',\n",
       " 'KB_JB685_1903-01-18_01-0002.txt',\n",
       " 'KB_JB638_1946-07-18_01-00003.txt',\n",
       " 'KB_JB494_1922-09-28_01-0005.txt',\n",
       " 'KB_JB685_1894-05-14_01-0003.txt',\n",
       " 'KB_JB230_1892-08-07_01-0003.txt']"
      ]
     },
     "execution_count": 5,
     "metadata": {},
     "output_type": "execute_result"
    }
   ],
   "source": [
    "# Les dix premiers fichiers\n",
    "files[:10]"
   ]
  },
  {
   "cell_type": "code",
   "execution_count": 6,
   "metadata": {},
   "outputs": [
    {
     "data": {
      "text/plain": [
       "'KB_JB773_1933-10-07_01-00007.txt'"
      ]
     },
     "execution_count": 6,
     "metadata": {},
     "output_type": "execute_result"
    }
   ],
   "source": [
    "# Choisir un fichier\n",
    "this_file = files[0]\n",
    "this_file"
   ]
  },
  {
   "cell_type": "code",
   "execution_count": 7,
   "metadata": {},
   "outputs": [
    {
     "data": {
      "text/plain": [
       "\"H VER8 L'AVENIR — 7-8 OCTOBRE\\n\\nChronique mdiciaire\\n\\nLes duels d'fleidelberg\\n\\nCOUR D'ASSISES DU BRABANT\\nL a Cour d'Assises du B r a b a n t a cond a m n é à 20 a n s de t r a v a u x forcés,\\nJ . - B . D u p r i x , q u i , à Lembecq, t i r a s u r\\nd e u x g e n d a r m e s qui v e n a i e n t l ' a r r ê t e r .\\nF a i s a n t a p p l i c a t i o n de la loi de déf e n s e sociale, la C o u r a décidé qu'à\\nl ' e x p i a t i o n d e sa p e i n e , le c o n d a m n é\\ns e r a placé p e n d a n t d i \""
      ]
     },
     "execution_count": 7,
     "metadata": {},
     "output_type": "execute_result"
    }
   ],
   "source": [
    "# Récupérer le texte du fichier\n",
    "text = open(os.path.join(data_path, this_file), 'r', encoding='utf-8').read()\n",
    "text[:500]"
   ]
  },
  {
   "cell_type": "code",
   "execution_count": 8,
   "metadata": {},
   "outputs": [
    {
     "data": {
      "text/plain": [
       "[('OCTOBRE Chronique mdiciaire', 0.0025400771374659583),\n",
       " (\"d'fleidelberg COUR D'ASSISES\", 0.003502724334575176),\n",
       " (\"duels d'fleidelberg COUR\", 0.004201851505897567),\n",
       " ('Chronique mdiciaire', 0.008362674121781549),\n",
       " (\"D'ASSISES DU BRABANT\", 0.009716193400320679),\n",
       " (\"COUR D'ASSISES\", 0.011624276563178814),\n",
       " ('OCTOBRE Chronique', 0.016724551442257266),\n",
       " ('COUR', 0.016828997471073557),\n",
       " (\"d'fleidelberg COUR\", 0.01989656959245708),\n",
       " ('Liège', 0.01997883991011739),\n",
       " (\"Cour d'Appel\", 0.027811531659030827),\n",
       " (\"duels d'fleidelberg\", 0.029965685960921487),\n",
       " ('brux', 0.04420234775853977),\n",
       " ('Charl', 0.05256981305016391),\n",
       " ('station', 0.05399581342219808),\n",
       " ('COL', 0.054580977281272834),\n",
       " ('Nord', 0.05543149753596268),\n",
       " ('BRABANT', 0.057020401514913464),\n",
       " ('Chronique', 0.05723406205548251),\n",
       " ('OCTOBRE', 0.05748130156820232),\n",
       " ('puissance', 0.06028115211824878),\n",
       " ('Conférence de Lucerne', 0.06440094495125616),\n",
       " ('duels', 0.06692777248647229),\n",
       " (\"qu'il\", 0.06708879177861117),\n",
       " ('cours', 0.06731598988429423),\n",
       " (\"cours d'une grande\", 0.07020432510712372),\n",
       " ('BRUXELLES', 0.08196527041411428),\n",
       " (\"D'ASSISES\", 0.08437942521961656),\n",
       " ('Gax', 0.0856096340045875),\n",
       " ('Anver', 0.08944469866244983),\n",
       " ('Ind', 0.09084287691359053),\n",
       " ('Verr', 0.09343713199767482),\n",
       " ('Gilly', 0.0952581094248339),\n",
       " ('faire', 0.09749977144358052),\n",
       " ('duel', 0.10039165872970844),\n",
       " ('Maddy', 0.10068363161884092),\n",
       " ('Congo', 0.10335749454401749),\n",
       " (\"cours d'une\", 0.10513595617954254),\n",
       " ('prochain cours', 0.10641281884287973),\n",
       " ('guerre', 0.11103159068181946),\n",
       " ('Los duels', 0.11431300074173792),\n",
       " ('Robert de Vroylande', 0.11533122395717926),\n",
       " ('Bougies Cour', 0.11625601663132147),\n",
       " ('Nord Charl', 0.11719965639992723),\n",
       " ('nouvelle station', 0.1197352382939778),\n",
       " ('coup', 0.12224500801867215),\n",
       " ('mdiciaire Les duels', 0.12345954093236063),\n",
       " ('Joseph Maddy vient', 0.12585859928008733),\n",
       " ('Gax Nord', 0.12852969764318423),\n",
       " (\"d'Appel\", 0.1304597512111855)]"
      ]
     },
     "execution_count": 8,
     "metadata": {},
     "output_type": "execute_result"
    }
   ],
   "source": [
    "# Extraire les mots clés de ce texte\n",
    "keywords = kw_extractor.extract_keywords(text)\n",
    "keywords"
   ]
  },
  {
   "cell_type": "code",
   "execution_count": 11,
   "metadata": {},
   "outputs": [
    {
     "data": {
      "text/plain": [
       "['Chronique mdiciaire',\n",
       " \"COUR D'ASSISES\",\n",
       " 'OCTOBRE Chronique',\n",
       " \"d'fleidelberg COUR\",\n",
       " \"Cour d'Appel\",\n",
       " \"duels d'fleidelberg\",\n",
       " \"cours d'une\",\n",
       " 'prochain cours',\n",
       " 'Los duels',\n",
       " 'Bougies Cour',\n",
       " 'Nord Charl',\n",
       " 'nouvelle station',\n",
       " 'Gax Nord']"
      ]
     },
     "execution_count": 11,
     "metadata": {},
     "output_type": "execute_result"
    }
   ],
   "source": [
    "# Ne garder que les bigrammes\n",
    "kept = []\n",
    "for kw, score in keywords:\n",
    "    words = kw.split()\n",
    "    if len(words) == 2:\n",
    "        kept.append(kw)\n",
    "kept"
   ]
  },
  {
   "cell_type": "markdown",
   "metadata": {},
   "source": [
    "## Faire la même opération sur tous les documents"
   ]
  },
  {
   "cell_type": "code",
   "execution_count": 13,
   "metadata": {},
   "outputs": [
    {
     "name": "stdout",
     "output_type": "stream",
     "text": [
      "KB_JB230_1892-08-07_01-0003.txt mentions these keywords: notaire Verhaegen, d’une contenance, Verhaegen adjugera, située rue, bénéfice d'enchères, rue Van...\n",
      "KB_JB230_1903-10-16_01-0002.txt mentions these keywords: Ban Exe, Mme Loubet, roi d’Italie, Mme liste, liste libérale, Lentete reine, Liste catholique, affaires étrangères...\n",
      "KB_JB230_1913-07-05_01-0001.txt mentions these keywords: compte rendu, budget belge, grande duchesse, libéral socialiste, parti libérai, projet scolaire, TRAIN ROYAL...\n",
      "KB_JB258_1884-09-03_01-0003.txt mentions these keywords: aocuteof viem, loi loi, loi eet, amendement tendant...\n",
      "KB_JB258_1894-12-09_01-0003.txt mentions these keywords: Aujourd’hui dimanche, Camille Dreyfus, plus tard, rue D-ipout, rue Rogier, Marché soutenu...\n",
      "KB_JB258_1906-01-09_01-0002.txt mentions these keywords: faiiit Joese, Lire demain, Ciit.it dan, Pauline dans, Maître d’Ecole, provoquer dans, ne-t dan, isVvé dans, mieruetneni dans, Mme Krauss...\n",
      "KB_JB421_1899-05-15_01-00003.txt mentions these keywords: phoques balladeurs, wagons employés, semaine correspondante, légèrement pain, pains cuits, senor Gomez...\n",
      "KB_JB421_1926-10-29_01-00002.txt mentions these keywords: procureur général, Banque Nationale, général Nollet, colonel Van, prince Léopold, Famille Royale, agents temporaires, Banque Belge...\n",
      "KB_JB421_1950-04-15_01-00004.txt mentions these keywords: Van Zeeland, roi Léopold, Van Mullem, d'une d'une, socialiste suisse, Madeleine Ska, Josée Goffin, s'est rendu, Zeeland s'est...\n",
      "KB_JB427_1920-01-10_01-00004.txt mentions these keywords: jeune Aile, Aile ter., référ. exig, Donner prix, bons gages, bureau journal...\n"
     ]
    }
   ],
   "source": [
    "for f in sorted(files)[:10]:\n",
    "    text = open(os.path.join(data_path, f), 'r', encoding=\"utf-8\").read()\n",
    "    keywords = kw_extractor.extract_keywords(text)\n",
    "    kept = []\n",
    "    for kw, score in keywords:\n",
    "        words = kw.split()\n",
    "        if len(words) == 2:\n",
    "            kept.append(kw)\n",
    "    print(f\"{f} mentions these keywords: {', '.join(kept)}...\")"
   ]
  }
 ],
 "metadata": {
  "kernelspec": {
   "display_name": "Python 3.10.5 ('tac_venv': venv)",
   "language": "python",
   "name": "python3"
  },
  "language_info": {
   "codemirror_mode": {
    "name": "ipython",
    "version": 3
   },
   "file_extension": ".py",
   "mimetype": "text/x-python",
   "name": "python",
   "nbconvert_exporter": "python",
   "pygments_lexer": "ipython3",
   "version": "3.11.2"
  },
  "vscode": {
   "interpreter": {
    "hash": "b1932ab1d169b4769d1550e799423b6477588e745f266d79d9004c136c81607e"
   }
  }
 },
 "nbformat": 4,
 "nbformat_minor": 4
}
