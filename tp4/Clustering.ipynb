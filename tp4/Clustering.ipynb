{
 "cells": [
  {
   "cell_type": "markdown",
   "metadata": {},
   "source": [
    "# Clustering de documents"
   ]
  },
  {
   "cell_type": "markdown",
   "metadata": {},
   "source": [
    "## Imports"
   ]
  },
  {
   "cell_type": "code",
   "execution_count": 4,
   "metadata": {},
   "outputs": [],
   "source": [
    "import collections\n",
    "import os\n",
    "import string\n",
    "import sys\n",
    "\n",
    "import pandas as pd\n",
    "from nltk import word_tokenize\n",
    "from nltk.corpus import stopwords\n",
    "from pprint import pprint\n",
    "from sklearn.cluster import KMeans\n",
    "from sklearn.feature_extraction.text import TfidfVectorizer\n",
    "from sklearn.decomposition import PCA\n",
    "import numpy as np\n",
    "import matplotlib.pyplot as plt\n",
    "from scipy.spatial.distance import cosine"
   ]
  },
  {
   "cell_type": "code",
   "execution_count": 5,
   "metadata": {},
   "outputs": [
    {
     "name": "stderr",
     "output_type": "stream",
     "text": [
      "[nltk_data] Downloading package punkt to\n",
      "[nltk_data]     C:\\Users\\gatho\\AppData\\Roaming\\nltk_data...\n",
      "[nltk_data]   Package punkt is already up-to-date!\n"
     ]
    },
    {
     "data": {
      "text/plain": [
       "True"
      ]
     },
     "execution_count": 5,
     "metadata": {},
     "output_type": "execute_result"
    }
   ],
   "source": [
    "import nltk\n",
    "\n",
    "nltk.download('punkt')"
   ]
  },
  {
   "cell_type": "code",
   "execution_count": 1,
   "metadata": {},
   "outputs": [],
   "source": [
    "data_path = \"../data/txt_clean/\""
   ]
  },
  {
   "cell_type": "markdown",
   "metadata": {},
   "source": [
    "## Charger tous les  fichiers de la décennie et en créer une liste de textes"
   ]
  },
  {
   "cell_type": "code",
   "execution_count": 17,
   "metadata": {},
   "outputs": [],
   "source": [
    "files1948 = [f for f in sorted(os.listdir(data_path)) if \"_1948\" in f]\n",
    "files1949 = [f for f in sorted(os.listdir(data_path)) if \"_1949\" in f]\n",
    "files1950 = [f for f in sorted(os.listdir(data_path)) if \"_1950\" in f]"
   ]
  },
  {
   "cell_type": "code",
   "execution_count": 19,
   "metadata": {},
   "outputs": [
    {
     "name": "stdout",
     "output_type": "stream",
     "text": [
      "['KB_JB1051_1948-05-24_01-00003.txt', 'KB_JB1051_1948-05-27_01-00001.txt', 'KB_JB1051_1948-05-31_01-00001.txt', 'KB_JB1051_1948-06-02_01-00003.txt', 'KB_JB1051_1948-06-05_01-00003.txt']\n",
      "['KB_JB1051_1949-01-03_01-00003.txt', 'KB_JB1051_1949-01-07_01-00003.txt', 'KB_JB1051_1949-01-08_01-00003.txt', 'KB_JB1051_1949-01-10_01-00001.txt', 'KB_JB1051_1949-01-10_01-00003.txt']\n",
      "['KB_JB1051_1950-01-03_01-00003.txt', 'KB_JB1051_1950-01-12_01-00003.txt', 'KB_JB1051_1950-02-08_01-00003.txt', 'KB_JB1051_1950-02-22_01-00003.txt', 'KB_JB1051_1950-04-15_01-00003.txt']\n"
     ]
    }
   ],
   "source": [
    "# Exemple de fichiers\n",
    "print(files1948[:5])\n",
    "print(files1949[:5])\n",
    "print(files1950[:5])"
   ]
  },
  {
   "cell_type": "code",
   "execution_count": 20,
   "metadata": {},
   "outputs": [],
   "source": [
    "texts1948 = [open(data_path + f, \"r\", encoding=\"utf-8\").read() for f in files1948]\n",
    "texts1949 = [open(data_path + f, \"r\", encoding=\"utf-8\").read() for f in files1949]\n",
    "texts1950 = [open(data_path + f, \"r\", encoding=\"utf-8\").read() for f in files1950]"
   ]
  },
  {
   "cell_type": "code",
   "execution_count": 21,
   "metadata": {},
   "outputs": [
    {
     "data": {
      "text/plain": [
       "\"LA GUERRE EN PALESTINE Le Conseil de Sécurité a décidé le « Cessez le feu » Washington, 22.\\n\\n— Les divergences entre les Etats-Unis et l'Angleterre au sujet de la Palestine se font' nettement jour.\\n\\nET LA FRANCE, On annonce, en effet, qu'un dé- LA GRANDE-BRETAGNE ET D'AUTRES, DONT LA BELGIQUE, puté va déposer sur le bureau de Divergences entre Londres et Washington au sujet des problèmes du Moyen-\""
      ]
     },
     "execution_count": 21,
     "metadata": {},
     "output_type": "execute_result"
    }
   ],
   "source": [
    "# Exemple de textes\n",
    "texts1948[0][:400]"
   ]
  },
  {
   "cell_type": "markdown",
   "metadata": {},
   "source": [
    "## Vectoriser les documents à l'aide de TF-IDF"
   ]
  },
  {
   "cell_type": "code",
   "execution_count": 22,
   "metadata": {},
   "outputs": [],
   "source": [
    "# Création d'une fonction de pré-traitement\n",
    "def preprocessing(text, stem=True):\n",
    "    \"\"\" Tokenize text and remove punctuation \"\"\"\n",
    "    text = text.translate(string.punctuation)\n",
    "    tokens = word_tokenize(text)\n",
    "    return tokens"
   ]
  },
  {
   "cell_type": "markdown",
   "metadata": {},
   "source": [
    "### Instancier le modèle TF-IDF avec ses arguments"
   ]
  },
  {
   "cell_type": "code",
   "execution_count": 23,
   "metadata": {},
   "outputs": [],
   "source": [
    "vectorizer = TfidfVectorizer(\n",
    "    tokenizer=preprocessing,\n",
    "    stop_words=stopwords.words('french'),\n",
    "    max_df=0.5,\n",
    "    min_df=0.1,\n",
    "    lowercase=True)"
   ]
  },
  {
   "cell_type": "markdown",
   "metadata": {},
   "source": [
    "### Construire la matrice de vecteurs à l'aide de la fonction `fit_transform`"
   ]
  },
  {
   "cell_type": "code",
   "execution_count": 25,
   "metadata": {},
   "outputs": [
    {
     "name": "stderr",
     "output_type": "stream",
     "text": [
      "c:\\Users\\gatho\\OneDrive\\Documents\\0_Tac_files\\tac\\tac_venv\\lib\\site-packages\\sklearn\\feature_extraction\\text.py:525: UserWarning: The parameter 'token_pattern' will not be used since 'tokenizer' is not None'\n",
      "  warnings.warn(\n"
     ]
    }
   ],
   "source": [
    "tfidf_vectors_1948 = vectorizer.fit_transform(texts1948)\n",
    "tfidf_vectors_1949 = vectorizer.fit_transform(texts1949)\n",
    "tfidf_vectors_1950 = vectorizer.fit_transform(texts1950)"
   ]
  },
  {
   "cell_type": "code",
   "execution_count": 32,
   "metadata": {},
   "outputs": [
    {
     "data": {
      "text/plain": [
       "<423x154 sparse matrix of type '<class 'numpy.float64'>'\n",
       "\twith 11550 stored elements in Compressed Sparse Row format>"
      ]
     },
     "execution_count": 32,
     "metadata": {},
     "output_type": "execute_result"
    }
   ],
   "source": [
    "# Détail d'une des matrices\n",
    "tfidf_vectors_1949"
   ]
  },
  {
   "cell_type": "markdown",
   "metadata": {},
   "source": [
    "### Imprimer le vecteur tf-IDF du premier document"
   ]
  },
  {
   "cell_type": "code",
   "execution_count": 37,
   "metadata": {},
   "outputs": [
    {
     "data": {
      "text/plain": [
       "i            0.699888\n",
       "``           0.219496\n",
       "jérusalem    0.195116\n",
       ")            0.189803\n",
       "(            0.179942\n",
       "               ...   \n",
       "etat         0.000000\n",
       "entre        0.000000\n",
       "encore       0.000000\n",
       "e            0.000000\n",
       "’            0.000000\n",
       "Length: 112, dtype: float64"
      ]
     },
     "execution_count": 37,
     "metadata": {},
     "output_type": "execute_result"
    }
   ],
   "source": [
    "pd.Series(\n",
    "    tfidf_vectors_1950[0].toarray()[0],\n",
    "    index=vectorizer.get_feature_names_out()\n",
    "    ).sort_values(ascending=False)"
   ]
  },
  {
   "cell_type": "markdown",
   "metadata": {},
   "source": [
    "### Tests sur nos documents"
   ]
  },
  {
   "cell_type": "code",
   "execution_count": 40,
   "metadata": {},
   "outputs": [],
   "source": [
    "tfidf_array_1948 = tfidf_vectors_1948.toarray()"
   ]
  },
  {
   "cell_type": "code",
   "execution_count": 41,
   "metadata": {},
   "outputs": [
    {
     "data": {
      "text/plain": [
       "array([0.        , 0.08931343, 0.        , 0.09937716, 0.06747353,\n",
       "       0.08725884, 0.        , 0.        , 0.        , 0.        ,\n",
       "       0.        , 0.        , 0.        , 0.        , 0.        ,\n",
       "       0.        , 0.        , 0.        , 0.        , 0.09454301,\n",
       "       0.15454057, 0.        , 0.        , 0.        , 0.28555872,\n",
       "       0.06850051, 0.        , 0.        , 0.08580734, 0.17451767,\n",
       "       0.        , 0.        , 0.        , 0.        , 0.        ,\n",
       "       0.        , 0.        , 0.07589281, 0.0887861 , 0.        ,\n",
       "       0.        , 0.        , 0.        , 0.        , 0.        ,\n",
       "       0.16795524, 0.08931343, 0.        , 0.        , 0.        ,\n",
       "       0.        , 0.08931343, 0.        , 0.14247528, 0.        ,\n",
       "       0.        , 0.        , 0.15242683, 0.05880304, 0.        ,\n",
       "       0.        , 0.        , 0.        , 0.        , 0.06217981,\n",
       "       0.15178563, 0.        , 0.        , 0.        , 0.05937133,\n",
       "       0.        , 0.        , 0.        , 0.        , 0.06902784,\n",
       "       0.        , 0.09329746, 0.        , 0.        , 0.05429168,\n",
       "       0.        , 0.        , 0.        , 0.07834768, 0.11760609,\n",
       "       0.05843022, 0.        , 0.20869454, 0.        , 0.        ,\n",
       "       0.27296148, 0.        , 0.12520791, 0.19037248, 0.        ,\n",
       "       0.0826767 , 0.        , 0.06413885, 0.14247528, 0.08676696,\n",
       "       0.        , 0.        , 0.        , 0.07038929, 0.        ,\n",
       "       0.        , 0.        , 0.0495515 , 0.06672628, 0.07457727,\n",
       "       0.        , 0.        , 0.        , 0.21029702, 0.08442444,\n",
       "       0.        , 0.        , 0.        , 0.        , 0.        ,\n",
       "       0.17862686, 0.        , 0.15314689, 0.15592173, 0.        ,\n",
       "       0.        , 0.        , 0.        , 0.        , 0.        ,\n",
       "       0.        , 0.        , 0.        , 0.        , 0.        ,\n",
       "       0.        , 0.        , 0.09454301, 0.        , 0.        ,\n",
       "       0.        , 0.        , 0.08102748, 0.        , 0.        ,\n",
       "       0.        , 0.        , 0.        , 0.        , 0.        ,\n",
       "       0.        , 0.08775912, 0.        , 0.        , 0.        ,\n",
       "       0.09391361, 0.18717334, 0.        , 0.        , 0.        ,\n",
       "       0.07038929, 0.        , 0.        , 0.0662385 , 0.        ,\n",
       "       0.        , 0.        , 0.05769854, 0.        , 0.        ,\n",
       "       0.06575872, 0.        , 0.        , 0.        , 0.        ,\n",
       "       0.        , 0.        , 0.        , 0.        , 0.        ,\n",
       "       0.        , 0.07589281, 0.        , 0.07362802, 0.06176171,\n",
       "       0.09329746, 0.09152323, 0.        , 0.09329746, 0.        ,\n",
       "       0.        , 0.09518624, 0.        , 0.        , 0.        ,\n",
       "       0.        , 0.        , 0.08533907, 0.        , 0.        ,\n",
       "       0.        , 0.        , 0.        , 0.15111668, 0.        ,\n",
       "       0.        , 0.        , 0.        , 0.        , 0.09329746,\n",
       "       0.        , 0.        , 0.        , 0.        , 0.        ,\n",
       "       0.06722232, 0.        , 0.        , 0.        , 0.        ,\n",
       "       0.        , 0.        , 0.23726589, 0.05494206, 0.        ,\n",
       "       0.        , 0.        , 0.        , 0.        , 0.07657345,\n",
       "       0.        , 0.        , 0.08397762, 0.        , 0.        ,\n",
       "       0.        , 0.        , 0.        , 0.        , 0.        ,\n",
       "       0.        , 0.08353752, 0.        , 0.        , 0.        ,\n",
       "       0.13151744, 0.        , 0.08442444, 0.        , 0.        ,\n",
       "       0.        , 0.        , 0.        , 0.        , 0.        ,\n",
       "       0.        ])"
      ]
     },
     "execution_count": 41,
     "metadata": {},
     "output_type": "execute_result"
    }
   ],
   "source": [
    "# Vecteur du document 0\n",
    "tfidf_array_1948[0]"
   ]
  },
  {
   "cell_type": "code",
   "execution_count": 42,
   "metadata": {},
   "outputs": [
    {
     "data": {
      "text/plain": [
       "array([0.16463804, 0.        , 0.14648529, 0.        , 0.        ,\n",
       "       0.        , 0.        , 0.06708723, 0.12154011, 0.        ,\n",
       "       0.        , 0.        , 0.        , 0.        , 0.0758502 ,\n",
       "       0.08900178, 0.        , 0.        , 0.06609604, 0.        ,\n",
       "       0.22962138, 0.        , 0.        , 0.        , 0.        ,\n",
       "       0.06785352, 0.        , 0.        , 0.        , 0.        ,\n",
       "       0.        , 0.        , 0.        , 0.        , 0.        ,\n",
       "       0.        , 0.        , 0.        , 0.        , 0.        ,\n",
       "       0.        , 0.06785352, 0.16463804, 0.        , 0.        ,\n",
       "       0.08318444, 0.08846985, 0.        , 0.        , 0.        ,\n",
       "       0.        , 0.08846985, 0.05977376, 0.        , 0.        ,\n",
       "       0.        , 0.        , 0.05032905, 0.05824764, 0.        ,\n",
       "       0.        , 0.        , 0.        , 0.        , 0.        ,\n",
       "       0.075176  , 0.        , 0.        , 0.        , 0.        ,\n",
       "       0.08900178, 0.08900178, 0.        , 0.        , 0.06837586,\n",
       "       0.        , 0.        , 0.07947862, 0.07654046, 0.10755778,\n",
       "       0.        , 0.        , 0.07724755, 0.        , 0.05824764,\n",
       "       0.17363503, 0.29173038, 0.0689078 , 0.        , 0.05644647,\n",
       "       0.13519166, 0.        , 0.06201265, 0.09428719, 0.        ,\n",
       "       0.        , 0.        , 0.1270661 , 0.        , 0.08594744,\n",
       "       0.        , 0.        , 0.        , 0.06972446, 0.        ,\n",
       "       0.        , 0.        , 0.14725045, 0.        , 0.        ,\n",
       "       0.09065878, 0.        , 0.        , 0.26038843, 0.08362704,\n",
       "       0.        , 0.        , 0.        , 0.        , 0.        ,\n",
       "       0.        , 0.        , 0.        , 0.25741504, 0.        ,\n",
       "       0.        , 0.        , 0.        , 0.09241625, 0.        ,\n",
       "       0.        , 0.17189487, 0.        , 0.        , 0.06420988,\n",
       "       0.        , 0.08954366, 0.        , 0.        , 0.        ,\n",
       "       0.07202186, 0.        , 0.        , 0.        , 0.09065878,\n",
       "       0.        , 0.07689185, 0.        , 0.        , 0.        ,\n",
       "       0.        , 0.        , 0.        , 0.        , 0.0758502 ,\n",
       "       0.        , 0.        , 0.        , 0.        , 0.        ,\n",
       "       0.        , 0.        , 0.        , 0.13122574, 0.        ,\n",
       "       0.        , 0.07232227, 0.11430714, 0.        , 0.        ,\n",
       "       0.06513762, 0.08147869, 0.        , 0.        , 0.08362704,\n",
       "       0.        , 0.17189487, 0.        , 0.        , 0.        ,\n",
       "       0.        , 0.        , 0.        , 0.0729326 , 0.06117837,\n",
       "       0.09241625, 0.        , 0.        , 0.        , 0.07451712,\n",
       "       0.        , 0.        , 0.        , 0.26540955, 0.09428719,\n",
       "       0.        , 0.        , 0.        , 0.09009586, 0.        ,\n",
       "       0.        , 0.        , 0.09493867, 0.07484468, 0.        ,\n",
       "       0.        , 0.        , 0.        , 0.        , 0.        ,\n",
       "       0.08499688, 0.        , 0.        , 0.        , 0.        ,\n",
       "       0.0665874 , 0.        , 0.        , 0.        , 0.08693022,\n",
       "       0.        , 0.15238655, 0.        , 0.10884626, 0.09365004,\n",
       "       0.        , 0.        , 0.        , 0.        , 0.0758502 ,\n",
       "       0.        , 0.07056479, 0.        , 0.        , 0.        ,\n",
       "       0.        , 0.        , 0.        , 0.08189581, 0.06609604,\n",
       "       0.        , 0.        , 0.        , 0.        , 0.        ,\n",
       "       0.        , 0.        , 0.        , 0.        , 0.        ,\n",
       "       0.06683624, 0.        , 0.        , 0.        , 0.        ,\n",
       "       0.08594744])"
      ]
     },
     "execution_count": 42,
     "metadata": {},
     "output_type": "execute_result"
    }
   ],
   "source": [
    "# Vecteur du document 1\n",
    "tfidf_array_1948[1]"
   ]
  },
  {
   "cell_type": "code",
   "execution_count": 43,
   "metadata": {},
   "outputs": [
    {
     "data": {
      "text/plain": [
       "0.608348899598395"
      ]
     },
     "execution_count": 43,
     "metadata": {},
     "output_type": "execute_result"
    }
   ],
   "source": [
    "cosine(tfidf_array_1948[0], tfidf_array_1948[1])"
   ]
  },
  {
   "cell_type": "markdown",
   "metadata": {},
   "source": [
    "## Appliquer un algorithme de clustering sur les vecteurs TF-IDF des documents"
   ]
  },
  {
   "cell_type": "markdown",
   "metadata": {},
   "source": [
    "Pour en savoir plus sur le KMeans clustering :\n",
    "- https://medium.com/dataseries/k-means-clustering-explained-visually-in-5-minutes-b900cc69d175"
   ]
  },
  {
   "cell_type": "markdown",
   "metadata": {},
   "source": [
    "### Définir un nombre de clusters"
   ]
  },
  {
   "cell_type": "code",
   "execution_count": 96,
   "metadata": {},
   "outputs": [],
   "source": [
    "N_CLUSTERS = 2"
   ]
  },
  {
   "cell_type": "markdown",
   "metadata": {},
   "source": [
    "### Instancier le modèle K-Means et ses arguments"
   ]
  },
  {
   "cell_type": "code",
   "execution_count": 97,
   "metadata": {},
   "outputs": [],
   "source": [
    "km_model = KMeans(n_clusters=N_CLUSTERS)"
   ]
  },
  {
   "cell_type": "markdown",
   "metadata": {},
   "source": [
    "### Appliquer le clustering à l'aide de la fonction `fit_predict`"
   ]
  },
  {
   "cell_type": "code",
   "execution_count": 98,
   "metadata": {},
   "outputs": [
    {
     "name": "stderr",
     "output_type": "stream",
     "text": [
      "c:\\Users\\gatho\\OneDrive\\Documents\\0_Tac_files\\tac\\tac_venv\\lib\\site-packages\\sklearn\\cluster\\_kmeans.py:1416: FutureWarning: The default value of `n_init` will change from 10 to 'auto' in 1.4. Set the value of `n_init` explicitly to suppress the warning\n",
      "  super()._check_params_vs_input(X, default_n_init=10)\n"
     ]
    }
   ],
   "source": [
    "clusters = km_model.fit_predict(tfidf_vectors_1948)"
   ]
  },
  {
   "cell_type": "code",
   "execution_count": 99,
   "metadata": {},
   "outputs": [],
   "source": [
    "clustering = collections.defaultdict(list)\n",
    "\n",
    "for idx, label in enumerate(clusters):\n",
    "    clustering[label].append(files1948[idx])"
   ]
  },
  {
   "cell_type": "code",
   "execution_count": 100,
   "metadata": {},
   "outputs": [
    {
     "name": "stdout",
     "output_type": "stream",
     "text": [
      "{0: ['KB_JB1051_1948-05-24_01-00003.txt',\n",
      "     'KB_JB1051_1948-05-27_01-00001.txt',\n",
      "     'KB_JB1051_1948-05-31_01-00001.txt',\n",
      "     'KB_JB1051_1948-06-02_01-00003.txt',\n",
      "     'KB_JB1051_1948-06-05_01-00003.txt',\n",
      "     'KB_JB1051_1948-06-14_01-00003.txt',\n",
      "     'KB_JB1051_1948-07-07_01-00003.txt',\n",
      "     'KB_JB1051_1948-07-15_01-00003.txt',\n",
      "     'KB_JB1051_1948-07-17_01-00003.txt',\n",
      "     'KB_JB1051_1948-07-24_01-00003.txt',\n",
      "     'KB_JB1051_1948-07-27_01-00003.txt',\n",
      "     'KB_JB1051_1948-07-31_01-00003.txt',\n",
      "     'KB_JB1051_1948-08-04_01-00003.txt',\n",
      "     'KB_JB1051_1948-08-16_01-00003.txt',\n",
      "     'KB_JB1051_1948-08-18_01-00003.txt',\n",
      "     'KB_JB1051_1948-09-11_01-00004.txt',\n",
      "     'KB_JB1051_1948-09-18_01-00001.txt',\n",
      "     'KB_JB1051_1948-09-20_01-00003.txt',\n",
      "     'KB_JB1051_1948-09-24_01-00003.txt',\n",
      "     'KB_JB1051_1948-10-16_01-00003.txt',\n",
      "     'KB_JB1051_1948-10-19_01-00003.txt',\n",
      "     'KB_JB1051_1948-10-20_01-00003.txt',\n",
      "     'KB_JB1051_1948-10-26_01-00002.txt',\n",
      "     'KB_JB1051_1948-10-29_01-00003.txt',\n",
      "     'KB_JB1051_1948-11-02_01-00003.txt',\n",
      "     'KB_JB1051_1948-11-10_01-00003.txt',\n",
      "     'KB_JB1051_1948-11-12_01-00003.txt',\n",
      "     'KB_JB1051_1948-11-23_01-00003.txt',\n",
      "     'KB_JB1051_1948-11-29_01-00002.txt',\n",
      "     'KB_JB1051_1948-12-02_01-00003.txt',\n",
      "     'KB_JB1051_1948-12-11_01-00003.txt',\n",
      "     'KB_JB1051_1948-12-14_01-00003.txt',\n",
      "     'KB_JB1051_1948-12-15_01-00003.txt',\n",
      "     'KB_JB1051_1948-12-28_01-00003.txt',\n",
      "     'KB_JB421_1948-05-20_01-00002.txt',\n",
      "     'KB_JB421_1948-05-26_01-00001.txt',\n",
      "     'KB_JB421_1948-05-28_01-00001.txt',\n",
      "     'KB_JB421_1948-05-29_01-00001.txt',\n",
      "     'KB_JB421_1948-06-01_01-00002.txt',\n",
      "     'KB_JB421_1948-06-02_01-00001.txt',\n",
      "     'KB_JB421_1948-06-03_01-00001.txt',\n",
      "     'KB_JB421_1948-07-08_01-00004.txt',\n",
      "     'KB_JB421_1948-07-09_01-00001.txt',\n",
      "     'KB_JB421_1948-07-13_01-00002.txt',\n",
      "     'KB_JB421_1948-07-24_01-00001.txt',\n",
      "     'KB_JB421_1948-08-11_01-00004.txt',\n",
      "     'KB_JB421_1948-08-12_01-00002.txt',\n",
      "     'KB_JB421_1948-08-17_01-00001.txt',\n",
      "     'KB_JB421_1948-08-24_01-00002.txt',\n",
      "     'KB_JB421_1948-09-20_01-00002.txt',\n",
      "     'KB_JB421_1948-09-22_01-00001.txt',\n",
      "     'KB_JB421_1948-10-04_01-00002.txt',\n",
      "     'KB_JB421_1948-10-15_01-00002.txt',\n",
      "     'KB_JB421_1948-11-09_01-00002.txt',\n",
      "     'KB_JB421_1948-11-20_01-00001.txt',\n",
      "     'KB_JB421_1948-11-23_01-00002.txt',\n",
      "     'KB_JB421_1948-11-30_01-00001.txt',\n",
      "     'KB_JB421_1948-12-09_01-00001.txt',\n",
      "     'KB_JB421_1948-12-16_01-00004.txt',\n",
      "     'KB_JB421_1948-12-30_01-00002.txt',\n",
      "     'KB_JB427_1948-02-12_01-00001.txt',\n",
      "     'KB_JB427_1948-02-19_01-00003.txt',\n",
      "     'KB_JB427_1948-03-01_01-00003.txt',\n",
      "     'KB_JB427_1948-03-02_01-00003.txt',\n",
      "     'KB_JB427_1948-03-04_01-00010.txt',\n",
      "     'KB_JB427_1948-04-06_01-00001.txt',\n",
      "     'KB_JB427_1948-04-06_01-00002.txt',\n",
      "     'KB_JB427_1948-05-13_01-00003.txt',\n",
      "     'KB_JB427_1948-05-15_01-00004.txt',\n",
      "     'KB_JB427_1948-05-16_01-00003.txt',\n",
      "     'KB_JB427_1948-05-16_01-00004.txt',\n",
      "     'KB_JB427_1948-05-18_01-00001.txt',\n",
      "     'KB_JB427_1948-05-18_01-00004.txt',\n",
      "     'KB_JB427_1948-05-23_01-00001.txt',\n",
      "     'KB_JB427_1948-05-24_01-00003.txt',\n",
      "     'KB_JB427_1948-05-25_01-00003.txt',\n",
      "     'KB_JB427_1948-05-26_01-00003.txt',\n",
      "     'KB_JB427_1948-05-26_01-00004.txt',\n",
      "     'KB_JB427_1948-05-27_01-00003.txt',\n",
      "     'KB_JB427_1948-05-27_01-00004.txt',\n",
      "     'KB_JB427_1948-05-29_01-00003.txt',\n",
      "     'KB_JB427_1948-05-29_01-00004.txt',\n",
      "     'KB_JB427_1948-06-01_01-00003.txt',\n",
      "     'KB_JB427_1948-06-02_01-00003.txt',\n",
      "     'KB_JB427_1948-06-03_01-00003.txt',\n",
      "     'KB_JB427_1948-06-04_01-00004.txt',\n",
      "     'KB_JB427_1948-06-05_01-00003.txt',\n",
      "     'KB_JB427_1948-06-07_01-00003.txt',\n",
      "     'KB_JB427_1948-06-08_01-00004.txt',\n",
      "     'KB_JB427_1948-06-10_01-00002.txt',\n",
      "     'KB_JB427_1948-06-10_01-00003.txt',\n",
      "     'KB_JB427_1948-06-10_01-00010.txt',\n",
      "     'KB_JB427_1948-06-11_01-00003.txt',\n",
      "     'KB_JB427_1948-06-14_01-00003.txt',\n",
      "     'KB_JB427_1948-06-15_01-00003.txt',\n",
      "     'KB_JB427_1948-06-17_01-00003.txt',\n",
      "     'KB_JB427_1948-06-17_01-00005.txt',\n",
      "     'KB_JB427_1948-06-21_01-00003.txt',\n",
      "     'KB_JB427_1948-06-23_01-00003.txt',\n",
      "     'KB_JB427_1948-06-24_01-00003.txt',\n",
      "     'KB_JB427_1948-06-26_01-00003.txt',\n",
      "     'KB_JB427_1948-06-27_01-00003.txt',\n",
      "     'KB_JB427_1948-06-29_01-00002.txt',\n",
      "     'KB_JB427_1948-06-30_01-00001.txt',\n",
      "     'KB_JB427_1948-07-03_01-00002.txt',\n",
      "     'KB_JB427_1948-07-07_01-00003.txt',\n",
      "     'KB_JB427_1948-07-09_01-00003.txt',\n",
      "     'KB_JB427_1948-07-12_01-00003.txt',\n",
      "     'KB_JB427_1948-07-14_01-00003.txt',\n",
      "     'KB_JB427_1948-07-15_01-00003.txt',\n",
      "     'KB_JB427_1948-07-18_01-00003.txt',\n",
      "     'KB_JB427_1948-07-22_01-00003.txt',\n",
      "     'KB_JB427_1948-07-23_01-00003.txt',\n",
      "     'KB_JB427_1948-07-24_01-00003.txt',\n",
      "     'KB_JB427_1948-07-25_01-00002.txt',\n",
      "     'KB_JB427_1948-08-03_01-00003.txt',\n",
      "     'KB_JB427_1948-08-04_01-00003.txt',\n",
      "     'KB_JB427_1948-08-05_01-00003.txt',\n",
      "     'KB_JB427_1948-08-08_01-00002.txt',\n",
      "     'KB_JB427_1948-08-09_01-00003.txt',\n",
      "     'KB_JB427_1948-08-10_01-00002.txt',\n",
      "     'KB_JB427_1948-08-10_01-00004.txt',\n",
      "     'KB_JB427_1948-08-11_01-00003.txt',\n",
      "     'KB_JB427_1948-08-11_01-00004.txt',\n",
      "     'KB_JB427_1948-08-14_01-00002.txt',\n",
      "     'KB_JB427_1948-08-15_01-00003.txt',\n",
      "     'KB_JB427_1948-08-18_01-00005.txt',\n",
      "     'KB_JB427_1948-08-22_01-00004.txt',\n",
      "     'KB_JB427_1948-08-24_01-00003.txt',\n",
      "     'KB_JB427_1948-08-25_01-00004.txt',\n",
      "     'KB_JB427_1948-08-26_01-00004.txt',\n",
      "     'KB_JB427_1948-09-06_01-00003.txt',\n",
      "     'KB_JB427_1948-09-12_01-00003.txt',\n",
      "     'KB_JB427_1948-09-14_01-00003.txt',\n",
      "     'KB_JB427_1948-09-18_01-00004.txt',\n",
      "     'KB_JB427_1948-09-19_01-00001.txt',\n",
      "     'KB_JB427_1948-09-19_01-00003.txt',\n",
      "     'KB_JB427_1948-09-22_01-00003.txt',\n",
      "     'KB_JB427_1948-09-23_01-00003.txt',\n",
      "     'KB_JB427_1948-09-24_01-00004.txt',\n",
      "     'KB_JB427_1948-09-28_01-00004.txt',\n",
      "     'KB_JB427_1948-10-04_01-00003.txt',\n",
      "     'KB_JB427_1948-10-13_01-00005.txt',\n",
      "     'KB_JB427_1948-10-14_01-00004.txt',\n",
      "     'KB_JB427_1948-10-15_01-00003.txt',\n",
      "     'KB_JB427_1948-10-16_01-00003.txt',\n",
      "     'KB_JB427_1948-10-19_01-00001.txt',\n",
      "     'KB_JB427_1948-10-19_01-00002.txt',\n",
      "     'KB_JB427_1948-10-19_01-00004.txt',\n",
      "     'KB_JB427_1948-10-20_01-00003.txt',\n",
      "     'KB_JB427_1948-10-21_01-00003.txt',\n",
      "     'KB_JB427_1948-10-22_01-00004.txt',\n",
      "     'KB_JB427_1948-10-23_01-00003.txt',\n",
      "     'KB_JB427_1948-10-25_01-00003.txt',\n",
      "     'KB_JB427_1948-10-26_01-00003.txt',\n",
      "     'KB_JB427_1948-10-27_01-00003.txt',\n",
      "     'KB_JB427_1948-10-28_01-00003.txt',\n",
      "     'KB_JB427_1948-10-29_01-00003.txt',\n",
      "     'KB_JB427_1948-10-30_01-00003.txt',\n",
      "     'KB_JB427_1948-11-03_01-00002.txt',\n",
      "     'KB_JB427_1948-11-05_01-00003.txt',\n",
      "     'KB_JB427_1948-11-07_01-00003.txt',\n",
      "     'KB_JB427_1948-11-07_01-00005.txt',\n",
      "     'KB_JB427_1948-11-08_01-00003.txt',\n",
      "     'KB_JB427_1948-11-09_01-00001.txt',\n",
      "     'KB_JB427_1948-11-09_01-00003.txt',\n",
      "     'KB_JB427_1948-11-09_01-00004.txt',\n",
      "     'KB_JB427_1948-11-10_01-00003.txt',\n",
      "     'KB_JB427_1948-11-12_01-00004.txt',\n",
      "     'KB_JB427_1948-11-13_01-00004.txt',\n",
      "     'KB_JB427_1948-11-15_01-00002.txt',\n",
      "     'KB_JB427_1948-11-17_01-00003.txt',\n",
      "     'KB_JB427_1948-11-19_01-00003.txt',\n",
      "     'KB_JB427_1948-11-20_01-00003.txt',\n",
      "     'KB_JB427_1948-11-23_01-00001.txt',\n",
      "     'KB_JB427_1948-11-23_01-00002.txt',\n",
      "     'KB_JB427_1948-11-23_01-00003.txt',\n",
      "     'KB_JB427_1948-11-24_01-00003.txt',\n",
      "     'KB_JB427_1948-11-25_01-00002.txt',\n",
      "     'KB_JB427_1948-11-25_01-00003.txt',\n",
      "     'KB_JB427_1948-11-26_01-00001.txt',\n",
      "     'KB_JB427_1948-11-26_01-00003.txt',\n",
      "     'KB_JB427_1948-11-26_01-00004.txt',\n",
      "     'KB_JB427_1948-11-27_01-00003.txt',\n",
      "     'KB_JB427_1948-11-27_01-00004.txt',\n",
      "     'KB_JB427_1948-11-29_01-00003.txt',\n",
      "     'KB_JB427_1948-11-30_01-00003.txt',\n",
      "     'KB_JB427_1948-12-01_01-00003.txt',\n",
      "     'KB_JB427_1948-12-01_01-00004.txt',\n",
      "     'KB_JB427_1948-12-02_01-00003.txt',\n",
      "     'KB_JB427_1948-12-03_01-00003.txt',\n",
      "     'KB_JB427_1948-12-06_01-00003.txt',\n",
      "     'KB_JB427_1948-12-09_01-00003.txt',\n",
      "     'KB_JB427_1948-12-10_01-00003.txt',\n",
      "     'KB_JB427_1948-12-11_01-00003.txt',\n",
      "     'KB_JB427_1948-12-13_01-00003.txt',\n",
      "     'KB_JB427_1948-12-16_01-00002.txt',\n",
      "     'KB_JB427_1948-12-18_01-00003.txt',\n",
      "     'KB_JB427_1948-12-18_01-00004.txt',\n",
      "     'KB_JB427_1948-12-19_01-00004.txt',\n",
      "     'KB_JB427_1948-12-22_01-00003.txt',\n",
      "     'KB_JB427_1948-12-24_01-00004.txt',\n",
      "     'KB_JB427_1948-12-25_01-00003.txt',\n",
      "     'KB_JB427_1948-12-25_01-00004.txt',\n",
      "     'KB_JB427_1948-12-28_01-00003.txt',\n",
      "     'KB_JB427_1948-12-29_01-00004.txt',\n",
      "     'KB_JB427_1948-12-30_01-00003.txt',\n",
      "     'KB_JB572_1948-02-27_01-00001.txt',\n",
      "     'KB_JB572_1948-04-30_01-00001.txt',\n",
      "     'KB_JB572_1948-06-02_01-00001.txt',\n",
      "     'KB_JB572_1948-06-02_01-00005.txt',\n",
      "     'KB_JB572_1948-06-04_01-00001.txt',\n",
      "     'KB_JB572_1948-06-23_01-00001.txt',\n",
      "     'KB_JB572_1948-06-24_01-00001.txt',\n",
      "     'KB_JB572_1948-07-05_01-00001.txt',\n",
      "     'KB_JB572_1948-07-14_01-00001.txt',\n",
      "     'KB_JB572_1948-07-20_01-00003.txt',\n",
      "     'KB_JB572_1948-08-25_01-00001.txt',\n",
      "     'KB_JB572_1948-09-18_01-00003.txt',\n",
      "     'KB_JB572_1948-09-20_01-00001.txt',\n",
      "     'KB_JB572_1948-09-21_01-00001.txt',\n",
      "     'KB_JB572_1948-09-22_01-00001.txt',\n",
      "     'KB_JB572_1948-09-29_01-00003.txt',\n",
      "     'KB_JB572_1948-10-29_01-00001.txt',\n",
      "     'KB_JB572_1948-11-08_01-00002.txt',\n",
      "     'KB_JB572_1948-11-09_01-00001.txt',\n",
      "     'KB_JB572_1948-11-24_01-00001.txt',\n",
      "     'KB_JB572_1948-12-01_01-00001.txt',\n",
      "     'KB_JB572_1948-12-01_01-00003.txt',\n",
      "     'KB_JB572_1948-12-31_01-00001.txt',\n",
      "     'KB_JB638_1948-05-21_01-00003.txt',\n",
      "     'KB_JB638_1948-06-25_01-00001.txt',\n",
      "     'KB_JB638_1948-08-18_01-00003.txt',\n",
      "     'KB_JB638_1948-08-27_01-00003.txt',\n",
      "     'KB_JB638_1948-10-19_01-00003.txt',\n",
      "     'KB_JB638_1948-11-09_01-00003.txt',\n",
      "     'KB_JB638_1948-11-30_01-00003.txt',\n",
      "     'KB_JB638_1948-12-06_01-00003.txt',\n",
      "     'KB_JB638_1948-12-16_01-00001.txt',\n",
      "     'KB_JB638_1948-12-24_01-00001.txt',\n",
      "     'KB_JB638_1948-12-29_01-00003.txt',\n",
      "     'KB_JB773_1948-04-30_01-00002.txt',\n",
      "     'KB_JB773_1948-05-15_01-00001.txt',\n",
      "     'KB_JB773_1948-05-17_01-00001.txt',\n",
      "     'KB_JB773_1948-05-19_01-00001.txt',\n",
      "     'KB_JB773_1948-05-20_01-00001.txt',\n",
      "     'KB_JB773_1948-05-25_01-00001.txt',\n",
      "     'KB_JB773_1948-05-25_01-00005.txt',\n",
      "     'KB_JB773_1948-05-27_01-00005.txt',\n",
      "     'KB_JB773_1948-05-28_01-00002.txt',\n",
      "     'KB_JB773_1948-06-02_01-00001.txt',\n",
      "     'KB_JB773_1948-06-19_01-00001.txt',\n",
      "     'KB_JB773_1948-06-21_01-00001.txt',\n",
      "     'KB_JB773_1948-06-21_01-00002.txt',\n",
      "     'KB_JB773_1948-06-29_01-00001.txt',\n",
      "     'KB_JB773_1948-07-31_01-00001.txt',\n",
      "     'KB_JB773_1948-08-10_01-00002.txt',\n",
      "     'KB_JB773_1948-08-16_01-00001.txt',\n",
      "     'KB_JB773_1948-08-30_01-00005.txt',\n",
      "     'KB_JB773_1948-09-20_01-00002.txt',\n",
      "     'KB_JB773_1948-09-22_01-00001.txt',\n",
      "     'KB_JB773_1948-10-04_01-00002.txt',\n",
      "     'KB_JB773_1948-10-15_01-00002.txt',\n",
      "     'KB_JB773_1948-11-09_01-00002.txt',\n",
      "     'KB_JB773_1948-11-19_01-00008.txt',\n",
      "     'KB_JB773_1948-11-20_01-00001.txt',\n",
      "     'KB_JB773_1948-11-22_01-00001.txt',\n",
      "     'KB_JB773_1948-11-23_01-00002.txt',\n",
      "     'KB_JB773_1948-11-30_01-00001.txt',\n",
      "     'KB_JB773_1948-12-09_01-00001.txt',\n",
      "     'KB_JB773_1948-12-30_01-00002.txt',\n",
      "     'KB_JB837_1948-01-18_01-00003.txt',\n",
      "     'KB_JB837_1948-03-02_01-00003.txt',\n",
      "     'KB_JB837_1948-05-16_01-00001.txt',\n",
      "     'KB_JB837_1948-05-16_02-00001.txt',\n",
      "     'KB_JB837_1948-05-16_02-00003.txt',\n",
      "     'KB_JB837_1948-05-18_01-00005.txt',\n",
      "     'KB_JB837_1948-05-19_01-00001.txt',\n",
      "     'KB_JB837_1948-05-19_01-00003.txt',\n",
      "     'KB_JB837_1948-05-20_01-00001.txt',\n",
      "     'KB_JB837_1948-05-20_01-00003.txt',\n",
      "     'KB_JB837_1948-05-22_01-00001.txt',\n",
      "     'KB_JB837_1948-05-22_01-00003.txt',\n",
      "     'KB_JB837_1948-05-23_01-00001.txt',\n",
      "     'KB_JB837_1948-05-24_01-00001.txt',\n",
      "     'KB_JB837_1948-05-24_01-00003.txt',\n",
      "     'KB_JB837_1948-05-26_01-00001.txt',\n",
      "     'KB_JB837_1948-05-27_01-00003.txt',\n",
      "     'KB_JB837_1948-05-28_01-00003.txt',\n",
      "     'KB_JB837_1948-05-29_01-00003.txt',\n",
      "     'KB_JB837_1948-06-01_01-00003.txt',\n",
      "     'KB_JB837_1948-06-09_01-00003.txt',\n",
      "     'KB_JB837_1948-06-14_01-00003.txt',\n",
      "     'KB_JB837_1948-06-16_01-00002.txt',\n",
      "     'KB_JB837_1948-06-17_01-00003.txt',\n",
      "     'KB_JB837_1948-06-18_01-00003.txt',\n",
      "     'KB_JB837_1948-06-28_01-00003.txt',\n",
      "     'KB_JB837_1948-07-06_01-00003.txt',\n",
      "     'KB_JB837_1948-07-08_01-00003.txt',\n",
      "     'KB_JB837_1948-07-12_01-00003.txt',\n",
      "     'KB_JB837_1948-08-05_01-00001.txt',\n",
      "     'KB_JB837_1948-08-06_01-00003.txt',\n",
      "     'KB_JB837_1948-08-07_01-00003.txt',\n",
      "     'KB_JB837_1948-08-09_01-00001.txt',\n",
      "     'KB_JB837_1948-08-14_01-00003.txt',\n",
      "     'KB_JB837_1948-08-15_01-00003.txt',\n",
      "     'KB_JB837_1948-08-16_01-00003.txt',\n",
      "     'KB_JB837_1948-08-19_01-00003.txt',\n",
      "     'KB_JB837_1948-08-21_01-00003.txt',\n",
      "     'KB_JB837_1948-08-22_01-00003.txt',\n",
      "     'KB_JB837_1948-08-24_01-00003.txt',\n",
      "     'KB_JB837_1948-08-26_01-00003.txt',\n",
      "     'KB_JB837_1948-09-08_01-00004.txt',\n",
      "     'KB_JB837_1948-09-11_01-00003.txt',\n",
      "     'KB_JB837_1948-09-12_01-00003.txt',\n",
      "     'KB_JB837_1948-09-12_02-00004.txt',\n",
      "     'KB_JB837_1948-09-15_01-00003.txt',\n",
      "     'KB_JB837_1948-09-18_01-00003.txt',\n",
      "     'KB_JB837_1948-09-19_01-00003.txt',\n",
      "     'KB_JB837_1948-09-19_02-00003.txt',\n",
      "     'KB_JB837_1948-09-21_01-00001.txt',\n",
      "     'KB_JB837_1948-09-22_01-00003.txt',\n",
      "     'KB_JB837_1948-09-24_01-00003.txt',\n",
      "     'KB_JB837_1948-10-20_01-00003.txt',\n",
      "     'KB_JB837_1948-10-21_01-00003.txt',\n",
      "     'KB_JB837_1948-10-22_01-00001.txt',\n",
      "     'KB_JB837_1948-10-23_01-00003.txt',\n",
      "     'KB_JB837_1948-10-24_01-00003.txt',\n",
      "     'KB_JB837_1948-10-28_01-00001.txt',\n",
      "     'KB_JB837_1948-10-29_01-00001.txt',\n",
      "     'KB_JB837_1948-11-07_01-00002.txt',\n",
      "     'KB_JB837_1948-11-07_02-00002.txt',\n",
      "     'KB_JB837_1948-11-07_02-00003.txt',\n",
      "     'KB_JB837_1948-11-09_01-00005.txt',\n",
      "     'KB_JB837_1948-11-10_01-00003.txt',\n",
      "     'KB_JB837_1948-11-11_01-00004.txt',\n",
      "     'KB_JB837_1948-11-17_01-00003.txt',\n",
      "     'KB_JB837_1948-11-20_01-00003.txt',\n",
      "     'KB_JB837_1948-11-21_01-00003.txt',\n",
      "     'KB_JB837_1948-11-21_02-00003.txt',\n",
      "     'KB_JB837_1948-11-30_01-00003.txt',\n",
      "     'KB_JB837_1948-12-01_01-00003.txt',\n",
      "     'KB_JB837_1948-12-03_01-00003.txt',\n",
      "     'KB_JB837_1948-12-10_01-00003.txt',\n",
      "     'KB_JB837_1948-12-16_01-00001.txt',\n",
      "     'KB_JB837_1948-12-29_01-00003.txt',\n",
      "     'KB_JB837_1948-12-30_01-00003.txt',\n",
      "     'KB_JB838_1948-11-28_01-00017.txt'],\n",
      " 1: ['KB_JB838_1948-04-10_01-00005.txt',\n",
      "     'KB_JB838_1948-05-16_01-00003.txt',\n",
      "     'KB_JB838_1948-05-19_01-00001.txt',\n",
      "     'KB_JB838_1948-05-21_01-00001.txt',\n",
      "     'KB_JB838_1948-05-22_01-00003.txt',\n",
      "     'KB_JB838_1948-05-23_01-00003.txt',\n",
      "     'KB_JB838_1948-05-25_01-00001.txt',\n",
      "     'KB_JB838_1948-05-26_01-00001.txt',\n",
      "     'KB_JB838_1948-05-27_01-00003.txt',\n",
      "     'KB_JB838_1948-05-28_01-00003.txt',\n",
      "     'KB_JB838_1948-05-29_01-00003.txt',\n",
      "     'KB_JB838_1948-06-01_01-00003.txt',\n",
      "     'KB_JB838_1948-06-02_01-00003.txt',\n",
      "     'KB_JB838_1948-06-04_01-00003.txt',\n",
      "     'KB_JB838_1948-06-04_01-00007.txt',\n",
      "     'KB_JB838_1948-06-05_01-00003.txt',\n",
      "     'KB_JB838_1948-06-06_01-00003.txt',\n",
      "     'KB_JB838_1948-06-12_01-00001.txt',\n",
      "     'KB_JB838_1948-06-12_01-00003.txt',\n",
      "     'KB_JB838_1948-06-17_01-00001.txt',\n",
      "     'KB_JB838_1948-06-24_01-00003.txt',\n",
      "     'KB_JB838_1948-06-26_01-00003.txt',\n",
      "     'KB_JB838_1948-06-27_01-00003.txt',\n",
      "     'KB_JB838_1948-07-01_01-00001.txt',\n",
      "     'KB_JB838_1948-07-01_01-00002.txt',\n",
      "     'KB_JB838_1948-07-03_01-00003.txt',\n",
      "     'KB_JB838_1948-07-07_01-00003.txt',\n",
      "     'KB_JB838_1948-07-14_01-00001.txt',\n",
      "     'KB_JB838_1948-07-14_01-00002.txt',\n",
      "     'KB_JB838_1948-07-18_01-00003.txt',\n",
      "     'KB_JB838_1948-07-22_01-00001.txt',\n",
      "     'KB_JB838_1948-07-24_01-00003.txt',\n",
      "     'KB_JB838_1948-07-29_01-00001.txt',\n",
      "     'KB_JB838_1948-08-05_01-00003.txt',\n",
      "     'KB_JB838_1948-08-07_01-00005.txt',\n",
      "     'KB_JB838_1948-08-12_01-00003.txt',\n",
      "     'KB_JB838_1948-08-14_01-00003.txt',\n",
      "     'KB_JB838_1948-08-15_01-00001.txt',\n",
      "     'KB_JB838_1948-08-18_01-00001.txt',\n",
      "     'KB_JB838_1948-08-18_01-00002.txt',\n",
      "     'KB_JB838_1948-08-18_01-00003.txt',\n",
      "     'KB_JB838_1948-08-22_01-00007.txt',\n",
      "     'KB_JB838_1948-08-25_01-00003.txt',\n",
      "     'KB_JB838_1948-08-27_01-00001.txt',\n",
      "     'KB_JB838_1948-08-27_01-00002.txt',\n",
      "     'KB_JB838_1948-08-27_01-00003.txt',\n",
      "     'KB_JB838_1948-09-09_01-00001.txt',\n",
      "     'KB_JB838_1948-09-09_01-00002.txt',\n",
      "     'KB_JB838_1948-09-18_01-00003.txt',\n",
      "     'KB_JB838_1948-09-19_01-00003.txt',\n",
      "     'KB_JB838_1948-09-22_01-00003.txt',\n",
      "     'KB_JB838_1948-09-24_01-00001.txt',\n",
      "     'KB_JB838_1948-09-24_01-00002.txt',\n",
      "     'KB_JB838_1948-10-01_01-00001.txt',\n",
      "     'KB_JB838_1948-10-02_01-00002.txt',\n",
      "     'KB_JB838_1948-10-02_01-00003.txt',\n",
      "     'KB_JB838_1948-10-04_01-00001.txt',\n",
      "     'KB_JB838_1948-10-09_01-00002.txt',\n",
      "     'KB_JB838_1948-10-13_01-00003.txt',\n",
      "     'KB_JB838_1948-10-17_01-00003.txt',\n",
      "     'KB_JB838_1948-10-20_01-00003.txt',\n",
      "     'KB_JB838_1948-10-22_01-00003.txt',\n",
      "     'KB_JB838_1948-10-27_01-00002.txt',\n",
      "     'KB_JB838_1948-10-28_01-00002.txt',\n",
      "     'KB_JB838_1948-10-30_01-00003.txt',\n",
      "     'KB_JB838_1948-11-09_01-00003.txt',\n",
      "     'KB_JB838_1948-11-10_01-00003.txt',\n",
      "     'KB_JB838_1948-11-11_01-00002.txt',\n",
      "     'KB_JB838_1948-11-14_01-00002.txt',\n",
      "     'KB_JB838_1948-11-16_01-00003.txt',\n",
      "     'KB_JB838_1948-11-20_01-00003.txt',\n",
      "     'KB_JB838_1948-11-24_01-00003.txt',\n",
      "     'KB_JB838_1948-11-27_01-00001.txt',\n",
      "     'KB_JB838_1948-12-01_01-00003.txt',\n",
      "     'KB_JB838_1948-12-06_01-00002.txt',\n",
      "     'KB_JB838_1948-12-09_01-00001.txt',\n",
      "     'KB_JB838_1948-12-17_01-00003.txt',\n",
      "     'KB_JB838_1948-12-25_01-00003.txt',\n",
      "     'KB_JB838_1948-12-28_01-00001.txt']}\n"
     ]
    }
   ],
   "source": [
    "pprint(dict(clustering))"
   ]
  },
  {
   "cell_type": "markdown",
   "metadata": {},
   "source": [
    "## Visualiser les clusters"
   ]
  },
  {
   "cell_type": "markdown",
   "metadata": {},
   "source": [
    "### Réduire les vecteurs à 2 dimensions à l'aide de l'algorithme PCA\n",
    "Cette étape est nécessaire afin de visualiser les documents dans un espace 2D\n",
    "\n",
    "https://fr.wikipedia.org/wiki/Analyse_en_composantes_principales"
   ]
  },
  {
   "cell_type": "code",
   "execution_count": 101,
   "metadata": {},
   "outputs": [],
   "source": [
    "pca = PCA(n_components=2)\n",
    "reduced_vectors_1948 = pca.fit_transform(tfidf_vectors_1948.toarray())"
   ]
  },
  {
   "cell_type": "code",
   "execution_count": 102,
   "metadata": {},
   "outputs": [
    {
     "data": {
      "text/plain": [
       "array([[-0.19186507, -0.1201986 ],\n",
       "       [-0.19853217, -0.02872035],\n",
       "       [-0.15986057, -0.00321593],\n",
       "       [-0.23530511, -0.19573397],\n",
       "       [-0.20384785, -0.00715341],\n",
       "       [-0.1723336 , -0.115334  ],\n",
       "       [-0.18757789, -0.12399419],\n",
       "       [-0.13337178,  0.00523409],\n",
       "       [-0.16523846, -0.18555316],\n",
       "       [-0.20672651,  0.07169995]])"
      ]
     },
     "execution_count": 102,
     "metadata": {},
     "output_type": "execute_result"
    }
   ],
   "source": [
    "reduced_vectors_1948[:10]"
   ]
  },
  {
   "cell_type": "markdown",
   "metadata": {},
   "source": [
    "### Générer le plot"
   ]
  },
  {
   "cell_type": "code",
   "execution_count": 103,
   "metadata": {},
   "outputs": [
    {
     "data": {
      "text/plain": [
       "<matplotlib.legend.Legend at 0x225aadd4df0>"
      ]
     },
     "execution_count": 103,
     "metadata": {},
     "output_type": "execute_result"
    },
    {
     "data": {
      "image/png": "[encoded data removed]",
      "text/plain": [
       "<Figure size 1000x1000 with 1 Axes>"
      ]
     },
     "metadata": {},
     "output_type": "display_data"
    }
   ],
   "source": [
    "x_axis = reduced_vectors_1948[:, 0]\n",
    "y_axis = reduced_vectors_1948[:, 1]\n",
    "\n",
    "plt.figure(figsize=(10,10))\n",
    "scatter = plt.scatter(x_axis, y_axis, s=100, c=clusters)\n",
    "\n",
    "# Ajouter les centroïdes\n",
    "centroids = pca.transform(km_model.cluster_centers_)\n",
    "plt.scatter(centroids[:, 0], centroids[:, 1],  marker = \"x\", s=100, linewidths = 2, color='black')\n",
    "\n",
    "# Ajouter la légende\n",
    "plt.legend(handles=scatter.legend_elements()[0], labels=set(clusters), title=\"Clusters\")"
   ]
  },
  {
   "cell_type": "code",
   "execution_count": 114,
   "metadata": {},
   "outputs": [],
   "source": [
    "import shutil\n",
    "import os\n",
    "\n",
    "# Define the source and destination folders\n",
    "source_folder = \"../data/txt_clean/\"\n",
    "destination_folder = \"../data/clustered_documents_1949/\"\n",
    "\n",
    "# Create the destination folder if it doesn't exist\n",
    "os.makedirs(destination_folder, exist_ok=True)\n",
    "\n",
    "# Iterate over the clusters\n",
    "for label, files in clustering.items():\n",
    "    # Create a folder for each cluster\n",
    "    cluster_folder = os.path.join(destination_folder, f\"Cluster_{label}\")\n",
    "    os.makedirs(cluster_folder, exist_ok=True)\n",
    "    \n",
    "    # Copy the documents of the cluster to the cluster folder\n",
    "    for file in files:\n",
    "        source_file = os.path.join(source_folder, file)\n",
    "        destination_file = os.path.join(cluster_folder, file)\n",
    "        shutil.copyfile(source_file, destination_file)\n"
   ]
  },
  {
   "cell_type": "code",
   "execution_count": 122,
   "metadata": {},
   "outputs": [
    {
     "name": "stdout",
     "output_type": "stream",
     "text": [
      "\n",
      "Cluster: Cluster_0\n",
      "The percentage of texts with 0 polarity and 0 subjectivity is: 40.229885057471265%\n",
      "The percentage of texts with 0 subjectivity and negative polarity is: 0.8620689655172413%\n",
      "The percentage of texts with 0 subjectivity and positive polarity is: 2.586206896551724%\n",
      "The percentage of texts with positive subjectivity and negative polarity is: 16.091954022988507%\n",
      "The percentage of texts with positive subjectivity and positive polarity is: 33.62068965517241%\n",
      "The percentage of texts with positive subjectivity and 0 polarity is: 6.609195402298851%\n",
      "\n",
      "Cluster: Cluster_1\n",
      "The percentage of texts with 0 polarity and 0 subjectivity is: 22.78481012658228%\n",
      "The percentage of texts with 0 subjectivity and negative polarity is: 1.2658227848101267%\n",
      "The percentage of texts with 0 subjectivity and positive polarity is: 1.2658227848101267%\n",
      "The percentage of texts with positive subjectivity and negative polarity is: 24.050632911392405%\n",
      "The percentage of texts with positive subjectivity and positive polarity is: 43.037974683544306%\n",
      "The percentage of texts with positive subjectivity and 0 polarity is: 7.59493670886076%\n"
     ]
    }
   ],
   "source": [
    "import os\n",
    "import pandas as pd\n",
    "from textblob import TextBlob\n",
    "\n",
    "def calculate_polarity_subjectivity(text):\n",
    "    blob = TextBlob(text)\n",
    "    return blob.sentiment.polarity, blob.sentiment.subjectivity\n",
    "\n",
    "base_directory = \"../data/clustered_documents_1948/\"\n",
    "clusters = [d for d in os.listdir(base_directory) if os.path.isdir(os.path.join(base_directory, d))]\n",
    "\n",
    "for cluster in clusters:\n",
    "    results = []\n",
    "    directory = os.path.join(base_directory, cluster)\n",
    "    for filename in os.listdir(directory):\n",
    "        if filename.endswith(\".txt\"):\n",
    "            with open(os.path.join(directory, filename), 'r', encoding=\"utf-8\") as file:\n",
    "                text = file.read()\n",
    "                polarity, subjectivity = calculate_polarity_subjectivity(text)\n",
    "                results.append([filename, polarity, subjectivity])\n",
    "\n",
    "    df = pd.DataFrame(results, columns=['Document', 'Polarity', 'Subjectivity'])\n",
    "    print(f\"\\nCluster: {cluster}\")\n",
    "    total_docs = len(df)\n",
    "    count = len(df[(df['Polarity'] == 0) & (df['Subjectivity'] == 0)])\n",
    "    print(f\"The percentage of texts with 0 polarity and 0 subjectivity is: {count/total_docs*100}%\")\n",
    "    \n",
    "    zero_subjectivity_negative_polarity_count = len(df[(df['Polarity'] < 0) & (df['Subjectivity'] == 0)])\n",
    "    zero_subjectivity_positive_polarity_count = len(df[(df['Polarity'] > 0) & (df['Subjectivity'] == 0)])\n",
    "    positive_subjectivity_zero_polarity_count = len(df[(df['Polarity'] == 0) & (df['Subjectivity'] > 0)])\n",
    "    positive_subjectivity_negative_polarity_count = len(df[(df['Polarity'] < 0) & (df['Subjectivity'] > 0)])\n",
    "    positive_subjectivity_positive_polarity_count = len(df[(df['Polarity'] > 0) & (df['Subjectivity'] > 0)])\n",
    "    \n",
    "    \n",
    "    print(f\"The percentage of texts with 0 subjectivity and negative polarity is: {zero_subjectivity_negative_polarity_count/total_docs*100}%\")\n",
    "    print(f\"The percentage of texts with 0 subjectivity and positive polarity is: {zero_subjectivity_positive_polarity_count/total_docs*100}%\")\n",
    "    print(f\"The percentage of texts with positive subjectivity and 0 polarity is: {positive_subjectivity_zero_polarity_count/total_docs*100}%\")\n",
    "    print(f\"The percentage of texts with positive subjectivity and negative polarity is: {positive_subjectivity_negative_polarity_count/total_docs*100}%\")\n",
    "    print(f\"The percentage of texts with positive subjectivity and positive polarity is: {positive_subjectivity_positive_polarity_count/total_docs*100}%\")\n",
    "    "
   ]
  }
 ],
 "metadata": {
  "kernelspec": {
   "display_name": "Python 3.10.5 ('tac_venv': venv)",
   "language": "python",
   "name": "python3"
  },
  "language_info": {
   "codemirror_mode": {
    "name": "ipython",
    "version": 3
   },
   "file_extension": ".py",
   "mimetype": "text/x-python",
   "name": "python",
   "nbconvert_exporter": "python",
   "pygments_lexer": "ipython3",
   "version": "3.9.13"
  },
  "vscode": {
   "interpreter": {
    "hash": "b1932ab1d169b4769d1550e799423b6477588e745f266d79d9004c136c81607e"
   }
  }
 },
 "nbformat": 4,
 "nbformat_minor": 4
}
