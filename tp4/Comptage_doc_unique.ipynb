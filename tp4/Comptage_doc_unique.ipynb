{
 "cells": [
  {
   "cell_type": "markdown",
   "metadata": {},
   "source": [
    "# comptage des documents uniques au corpus"
   ]
  },
  {
   "cell_type": "code",
   "execution_count": 1,
   "metadata": {},
   "outputs": [
    {
     "name": "stdout",
     "output_type": "stream",
     "text": [
      "32 Documents only in path1: ['KB_JB421_1948-05-28_01-00001.txt', 'KB_JB421_1948-09-22_01-00001.txt', 'KB_JB421_1949-01-06_01-00001.txt', 'KB_JB421_1949-06-01_01-00002.txt', 'KB_JB421_1949-08-23_01-00008.txt', 'KB_JB421_1950-04-13_01-00005.txt', 'KB_JB421_1950-06-28_01-00004.txt', 'KB_JB427_1948-12-06_01-00003.txt', 'KB_JB427_1949-02-15_01-00004.txt', 'KB_JB427_1950-02-27_01-00005.txt', 'KB_JB427_1950-04-13_01-00008.txt', 'KB_JB427_1950-04-21_01-00004.txt', 'KB_JB427_1950-04-26_01-00006.txt', 'KB_JB572_1948-09-29_01-00003.txt', 'KB_JB572_1948-11-09_01-00001.txt', 'KB_JB572_1948-11-24_01-00001.txt', 'KB_JB638_1948-12-24_01-00001.txt', 'KB_JB638_1949-03-31_01-00001.txt', 'KB_JB773_1948-05-25_01-00001.txt', 'KB_JB773_1948-09-22_01-00001.txt', 'KB_JB773_1948-10-04_01-00002.txt', 'KB_JB773_1948-11-22_01-00001.txt', 'KB_JB773_1949-06-01_01-00002.txt', 'KB_JB773_1950-04-05_01-00005.txt', 'KB_JB773_1950-06-28_01-00004.txt', 'KB_JB837_1948-08-14_01-00003.txt', 'KB_JB837_1948-12-30_01-00003.txt', 'KB_JB837_1949-01-06_01-00001.txt', 'KB_JB837_1950-02-03_01-00006.txt', 'KB_JB838_1948-10-28_01-00002.txt', 'KB_JB838_1949-06-28_01-00002.txt', 'KB_JB838_1950-04-22_01-00016.txt']\n",
      "0 Documents only in path2: []\n"
     ]
    }
   ],
   "source": [
    "import os\n",
    "\n",
    "text_path1 = \"D:\\_COURS\\TAC\\Camille_Israel_AND_Palestine\"\n",
    "text_path2 = \"D:\\_COURS\\TAC\\Camille_Israel_AND_Palestine_AND_guerre\"\n",
    "\n",
    "files1 = os.listdir(text_path1)\n",
    "files2 = os.listdir(text_path2)\n",
    "\n",
    "files_only_in_path1 = [file for file in files1 if file not in files2]\n",
    "files_only_in_path2 = [file for file in files2 if file not in files1]\n",
    "\n",
    "print(len(files_only_in_path1),\"Documents only in path1:\", files_only_in_path1)\n",
    "print(len(files_only_in_path2),\"Documents only in path2:\", files_only_in_path2)"
   ]
  }
 ],
 "metadata": {
  "kernelspec": {
   "display_name": "tac_venv",
   "language": "python",
   "name": "python3"
  },
  "language_info": {
   "codemirror_mode": {
    "name": "ipython",
    "version": 3
   },
   "file_extension": ".py",
   "mimetype": "text/x-python",
   "name": "python",
   "nbconvert_exporter": "python",
   "pygments_lexer": "ipython3",
   "version": "3.9.13"
  }
 },
 "nbformat": 4,
 "nbformat_minor": 2
}
