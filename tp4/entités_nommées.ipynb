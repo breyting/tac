{
 "cells": [
  {
   "cell_type": "markdown",
   "metadata": {},
   "source": [
    "# Reconnaissance d'entités nommées avec SpaCy"
   ]
  },
  {
   "cell_type": "markdown",
   "metadata": {},
   "source": [
    "La documentation est accessible ici: https://spacy.io/api"
   ]
  },
  {
   "cell_type": "markdown",
   "metadata": {},
   "source": [
    "## Imports"
   ]
  },
  {
   "cell_type": "code",
   "execution_count": null,
   "metadata": {},
   "outputs": [],
   "source": [
    "from collections import defaultdict\n",
    "import sys\n",
    "import spacy\n",
    "from spacy.lang.fr.examples import sentences\n",
    "import os"
   ]
  },
  {
   "cell_type": "code",
   "execution_count": null,
   "metadata": {},
   "outputs": [],
   "source": [
    "nlp = spacy.load('fr_core_news_lg')"
   ]
  },
  {
   "cell_type": "markdown",
   "metadata": {},
   "source": [
    "## Appliquer la reconnaissance d'entités nommées sur notre corpus"
   ]
  },
  {
   "cell_type": "code",
   "execution_count": null,
   "metadata": {},
   "outputs": [],
   "source": [
    "# Directory path\n",
    "directory = \"../data/txt_clean\"\n",
    "\n",
    "# Get all file names in the directory\n",
    "file_names = os.listdir(directory)\n",
    "\n",
    "# Loop through each file\n",
    "for file_name in file_names:\n",
    "    # File path\n",
    "    file_path = os.path.join(directory, file_name)\n",
    "    \n",
    "    # Read the file\n",
    "    with open(file_path, \"r\", encoding=\"utf-8\") as file:\n",
    "        text = file.read()\n",
    "    \n",
    "    # Process the text\n",
    "    doc = nlp(text)\n",
    "    \n",
    "    # Extract entities\n",
    "    entities = []\n",
    "    for ent in doc.ents:\n",
    "        entities.append(f\"{ent.text} ({ent.label_})\")\n",
    "    \n",
    "    # Print entities\n",
    "    if entities:\n",
    "        print(f\"Entities in {file_name}: {', '.join(entities)}\")\n",
    "    else:\n",
    "        print(f\"No entities found in {file_name}\")\n"
   ]
  },
  {
   "cell_type": "code",
   "execution_count": null,
   "metadata": {},
   "outputs": [],
   "source": [
    "# Initialize the list of LOC entities\n",
    "loc_entities = []\n",
    "person_entities = []\n",
    "org_entities = []\n",
    "\n",
    "# Get all file names in the directory\n",
    "file_names = os.listdir(directory)\n",
    "\n",
    "# Loop through each file\n",
    "for file_name in file_names:\n",
    "    # File path\n",
    "    file_path = os.path.join(directory, file_name)\n",
    "    \n",
    "    # Read the file\n",
    "    with open(file_path, \"r\", encoding=\"utf-8\") as file:\n",
    "        text = file.read()\n",
    "    \n",
    "    # Process the text\n",
    "    doc = nlp(text)\n",
    "    \n",
    "    # Extract LOC entities\n",
    "    for ent in doc.ents:\n",
    "        if ent.label_ == \"LOC\":\n",
    "            loc_entities.append(ent.text)\n",
    "        elif ent.label_ == \"PER\":\n",
    "            person_entities.append(ent.text)\n",
    "        elif ent.label_ == \"ORG\":\n",
    "            org_entities.append(ent.text)\n"
   ]
  },
  {
   "cell_type": "code",
   "execution_count": null,
   "metadata": {},
   "outputs": [],
   "source": [
    "print(set(loc_entities))\n",
    "print(set(person_entities))\n",
    "print(set(org_entities)) "
   ]
  },
  {
   "cell_type": "code",
   "execution_count": null,
   "metadata": {},
   "outputs": [],
   "source": [
    "from collections import Counter\n",
    "\n",
    "# Count the occurrences of each LOC entity\n",
    "loc_counts = Counter(loc_entities)\n",
    "# Get the 20 most common LOC entities\n",
    "top_20_loc_entities = loc_counts.most_common(20)\n",
    "\n",
    "# Count the occurrences of each PER entity\n",
    "per_counts = Counter(person_entities)\n",
    "# Get the 20 most common PER entities\n",
    "top_20_per_entities = per_counts.most_common(20)\n",
    "\n",
    "# Count the occurrences of each ORG entity\n",
    "org_counts = Counter(org_entities)\n",
    "# Get the 20 most common ORG entities\n",
    "top_20_org_entities = org_counts.most_common(20)\n",
    "\n",
    "# Print the 20 most common LOC entities\n",
    "print(\"Top 20 LOC entities:\")\n",
    "for entity, count in top_20_loc_entities:\n",
    "    print(f\"{entity}: {count}\")\n",
    "\n",
    "# Print the 20 most common PER entities\n",
    "print(\"\\nTop 20 PER entities:\")\n",
    "for entity, count in top_20_per_entities:\n",
    "    print(f\"{entity}: {count}\")\n",
    "\n",
    "# Print the 20 most common ORG entities\n",
    "print(\"\\nTop 20 ORG entities:\")\n",
    "for entity, count in top_20_org_entities:\n",
    "    print(f\"{entity}: {count}\")\n"
   ]
  }
 ],
 "metadata": {
  "kernelspec": {
   "display_name": "Python 3.10.5 ('tac_venv': venv)",
   "language": "python",
   "name": "python3"
  },
  "language_info": {
   "codemirror_mode": {
    "name": "ipython",
    "version": 3
   },
   "file_extension": ".py",
   "mimetype": "text/x-python",
   "name": "python",
   "nbconvert_exporter": "python",
   "pygments_lexer": "ipython3",
   "version": "3.9.13"
  },
  "vscode": {
   "interpreter": {
    "hash": "b1932ab1d169b4769d1550e799423b6477588e745f266d79d9004c136c81607e"
   }
  }
 },
 "nbformat": 4,
 "nbformat_minor": 4
}
