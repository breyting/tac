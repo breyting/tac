{
 "cells": [
  {
   "cell_type": "markdown",
   "metadata": {},
   "source": [
    "# comptage des documents uniques au corpus"
   ]
  },
  {
   "cell_type": "code",
   "execution_count": null,
   "metadata": {},
   "outputs": [],
   "source": [
    "import os\n",
    "\n",
    "text_path1 = \"D:\\_COURS\\TAC\\Camille_Israel_AND_Palestine\"\n",
    "text_path2 = \"D:\\_COURS\\TAC\\Camille_Israel_AND_Palestine_AND_guerre\"\n",
    "\n",
    "files1 = os.listdir(text_path1)\n",
    "files2 = os.listdir(text_path2)\n",
    "\n",
    "files_only_in_path1 = [file for file in files1 if file not in files2]\n",
    "files_only_in_path2 = [file for file in files2 if file not in files1]\n",
    "\n",
    "print(len(files_only_in_path1),\"Documents only in path1:\", files_only_in_path1)\n",
    "print(len(files_only_in_path2),\"Documents only in path2:\", files_only_in_path2)"
   ]
  }
 ],
 "metadata": {
  "language_info": {
   "name": "python"
  }
 },
 "nbformat": 4,
 "nbformat_minor": 2
}
