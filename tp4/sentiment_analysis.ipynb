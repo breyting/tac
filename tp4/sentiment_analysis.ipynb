{
 "cells": [
  {
   "cell_type": "markdown",
   "metadata": {},
   "source": [
    "# Sentiment analysis avec Textblob-FR"
   ]
  },
  {
   "cell_type": "markdown",
   "metadata": {},
   "source": [
    "### Moyenne des polarités et subjectivités par documents"
   ]
  },
  {
   "cell_type": "code",
   "execution_count": null,
   "metadata": {},
   "outputs": [],
   "source": [
    "import os\n",
    "import pandas as pd\n",
    "from textblob import TextBlob\n",
    "\n",
    "def calculate_polarity_subjectivity(text):\n",
    "    blob = TextBlob(text)\n",
    "    return 100*blob.sentiment.polarity, 100*(blob.sentiment.subjectivity)\n",
    "\n",
    "results = []\n",
    "directory = \"../data/txt_clean\"\n",
    "for filename in os.listdir(directory):\n",
    "    if filename.endswith(\".txt\"):\n",
    "        with open(os.path.join(directory, filename), 'r', encoding=\"utf-8\") as file:\n",
    "            text = file.read()\n",
    "            polarity, subjectivity = calculate_polarity_subjectivity(text)\n",
    "            results.append([filename, polarity, subjectivity])\n",
    "\n",
    "df = pd.DataFrame(results, columns=['Document', 'Polarity', 'Subjectivity'])\n",
    "df"
   ]
  },
  {
   "cell_type": "markdown",
   "metadata": {},
   "source": [
    "### Nombre de documents regroupé par polarité et subjectivité"
   ]
  },
  {
   "cell_type": "code",
   "execution_count": null,
   "metadata": {},
   "outputs": [],
   "source": [
    "count = len(df[(df['Polarity'] == 0) & (df['Subjectivity'] == 0)])\n",
    "print(f\"The number of texts with 0 polarity and 0 subjectivity is: {count}\")\n",
    "\n",
    "negative_count = len(df[df['Polarity'] < 0])\n",
    "positive_count = len(df[df['Polarity'] > 0])\n",
    "zero_subjectivity_negative_polarity_count = len(df[(df['Polarity'] < 0) & (df['Subjectivity'] == 0)])\n",
    "zero_subjectivity_positive_polarity_count = len(df[(df['Polarity'] > 0) & (df['Subjectivity'] == 0)])\n",
    "positive_subjectivity_negative_polarity_count = len(df[(df['Polarity'] < 0) & (df['Subjectivity'] > 0)])\n",
    "positive_subjectivity_positive_polarity_count = len(df[(df['Polarity'] > 0) & (df['Subjectivity'] > 0)])\n",
    "positive_subjectivity_zero_polarity_count = len(df[(df['Polarity'] == 0) & (df['Subjectivity'] > 0)])\n",
    "positive_subjectivity_positive_polarity_count = len(df[(df['Polarity'] > 0) & (df['Subjectivity'] > 0)])\n",
    "\n",
    "print(f\"The number of texts with 0 subjectivity and negative polarity is: {zero_subjectivity_negative_polarity_count}\")\n",
    "print(f\"The number of texts with 0 subjectivity and positive polarity is: {zero_subjectivity_positive_polarity_count}\")\n",
    "print(f\"The number of texts with positive subjectivity and negative polarity is: {positive_subjectivity_negative_polarity_count}\")\n",
    "print(f\"The number of texts with positive subjectivity and positive polarity is: {positive_subjectivity_positive_polarity_count}\")\n",
    "print(f\"The number of texts with positive subjectivity and 0 polarity is: {positive_subjectivity_zero_polarity_count}\")\n",
    "print(f\"The number of texts with positive subjectivity and positive polarity is: {positive_subjectivity_positive_polarity_count}\")\n"
   ]
  },
  {
   "cell_type": "code",
   "execution_count": null,
   "metadata": {},
   "outputs": [],
   "source": [
    "filtered_df = df[(df['Polarity'] != 0) | (df['Subjectivity'] != 0)]\n",
    "mean_polarity = filtered_df['Polarity'].mean()\n",
    "mean_subjectivity = filtered_df['Subjectivity'].mean()\n",
    "\n",
    "print(f\"Mean Polarity: {mean_polarity}\")\n",
    "print(f\"Mean Subjectivity: {mean_subjectivity}\")\n",
    "\n",
    "median_polarity = filtered_df['Polarity'].median()\n",
    "median_subjectivity = filtered_df['Subjectivity'].median()\n",
    "\n",
    "print(f\"Median Polarity: {median_polarity}\")\n",
    "print(f\"Median Subjectivity: {median_subjectivity}\")"
   ]
  },
  {
   "cell_type": "code",
   "execution_count": null,
   "metadata": {},
   "outputs": [],
   "source": [
    "def calculate_polarity_subjectivity(text):\n",
    "    blob = TextBlob(text)\n",
    "    return 100*blob.sentiment.polarity, 100*blob.sentiment.subjectivity\n",
    "\n",
    "results = []\n",
    "directory = \"../data/txt_clean\"\n",
    "for filename in os.listdir(directory):\n",
    "    if filename.endswith(\".txt\"):\n",
    "        year = filename.split('_')[2].split('-')[0]  # the year is the third part of the filename\n",
    "        with open(os.path.join(directory, filename), 'r', encoding=\"utf-8\") as file:\n",
    "            text = file.read()\n",
    "            polarity, subjectivity = calculate_polarity_subjectivity(text)\n",
    "            results.append([year, filename, polarity, subjectivity])\n",
    "\n",
    "df = pd.DataFrame(results, columns=['Year', 'Document', 'Polarity', 'Subjectivity'])\n",
    "\n",
    "for year, group in df.groupby('Year'):\n",
    "    print(f\"\\nYear: {year}\")\n",
    "    count = len(group[(group['Polarity'] == 0) & (group['Subjectivity'] == 0)])\n",
    "    print(f\"The number of texts with 0 polarity and 0 subjectivity is: {count}\")\n",
    "\n",
    "    negative_count = len(group[group['Polarity'] < 0])\n",
    "    positive_count = len(group[group['Polarity'] > 0])\n",
    "    zero_subjectivity_negative_polarity_count = len(group[(group['Polarity'] < 0) & (group['Subjectivity'] == 0)])\n",
    "    zero_subjectivity_positive_polarity_count = len(group[(group['Polarity'] > 0) & (group['Subjectivity'] == 0)])\n",
    "    positive_subjectivity_negative_polarity_count = len(group[(group['Polarity'] < 0) & (group['Subjectivity'] > 0)])\n",
    "    positive_subjectivity_positive_polarity_count = len(group[(group['Polarity'] > 0) & (group['Subjectivity'] > 0)])\n",
    "    positive_subjectivity_zero_polarity_count = len(group[(group['Polarity'] == 0) & (group['Subjectivity'] > 0)])\n",
    "\n",
    "    print(f\"The number of texts with 0 subjectivity and negative polarity is: {zero_subjectivity_negative_polarity_count}\")\n",
    "    print(f\"The number of texts with 0 subjectivity and positive polarity is: {zero_subjectivity_positive_polarity_count}\")\n",
    "    print(f\"The number of texts with positive subjectivity and negative polarity is: {positive_subjectivity_negative_polarity_count}\")\n",
    "    print(f\"The number of texts with positive subjectivity and positive polarity is: {positive_subjectivity_positive_polarity_count}\")\n",
    "    print(f\"The number of texts with positive subjectivity and 0 polarity is: {positive_subjectivity_zero_polarity_count}\")"
   ]
  },
  {
   "cell_type": "code",
   "execution_count": null,
   "metadata": {},
   "outputs": [],
   "source": [
    "results = []\n",
    "directory = \"../data/txt_clean\"\n",
    "for filename in os.listdir(directory):\n",
    "    if filename.endswith(\".txt\"):\n",
    "        year = filename.split('_')[2].split('-')[0]  # the year is the third part of the filename\n",
    "        with open(os.path.join(directory, filename), 'r', encoding=\"utf-8\") as file:\n",
    "            text = file.read()\n",
    "            polarity, subjectivity = calculate_polarity_subjectivity(text)\n",
    "            results.append([year, filename, polarity, subjectivity])\n",
    "\n",
    "df = pd.DataFrame(results, columns=['Year', 'Document', 'Polarity', 'Subjectivity'])\n",
    "\n",
    "for year, group in df.groupby('Year'):\n",
    "    print(f\"\\nYear: {year}\")\n",
    "    total_docs = len(group)\n",
    "    count = len(group[(group['Polarity'] == 0) & (group['Subjectivity'] == 0)])\n",
    "    print(f\"The percentage of texts with 0 polarity and 0 subjectivity is: {count/total_docs*100}%\")\n",
    "\n",
    "    negative_count = len(group[group['Polarity'] < 0])\n",
    "    positive_count = len(group[group['Polarity'] > 0])\n",
    "    zero_subjectivity_negative_polarity_count = len(group[(group['Polarity'] < 0) & (group['Subjectivity'] == 0)])\n",
    "    zero_subjectivity_positive_polarity_count = len(group[(group['Polarity'] > 0) & (group['Subjectivity'] == 0)])\n",
    "    positive_subjectivity_negative_polarity_count = len(group[(group['Polarity'] < 0) & (group['Subjectivity'] > 0)])\n",
    "    positive_subjectivity_positive_polarity_count = len(group[(group['Polarity'] > 0) & (group['Subjectivity'] > 0)])\n",
    "    positive_subjectivity_zero_polarity_count = len(group[(group['Polarity'] == 0) & (group['Subjectivity'] > 0)])\n",
    "\n",
    "    print(f\"The percentage of texts with 0 subjectivity and negative polarity is: {zero_subjectivity_negative_polarity_count/total_docs*100}%\")\n",
    "    print(f\"The percentage of texts with 0 subjectivity and positive polarity is: {zero_subjectivity_positive_polarity_count/total_docs*100}%\")\n",
    "    print(f\"The percentage of texts with positive subjectivity and negative polarity is: {positive_subjectivity_negative_polarity_count/total_docs*100}%\")\n",
    "    print(f\"The percentage of texts with positive subjectivity and positive polarity is: {positive_subjectivity_positive_polarity_count/total_docs*100}%\")\n",
    "    print(f\"The percentage of texts with positive subjectivity and 0 polarity is: {positive_subjectivity_zero_polarity_count/total_docs*100}%\")"
   ]
  }
 ],
 "metadata": {
  "kernelspec": {
   "display_name": "Python 3.10.5 ('tac_venv': venv)",
   "language": "python",
   "name": "python3"
  },
  "language_info": {
   "codemirror_mode": {
    "name": "ipython",
    "version": 3
   },
   "file_extension": ".py",
   "mimetype": "text/x-python",
   "name": "python",
   "nbconvert_exporter": "python",
   "pygments_lexer": "ipython3",
   "version": "3.9.13"
  },
  "vscode": {
   "interpreter": {
    "hash": "b1932ab1d169b4769d1550e799423b6477588e745f266d79d9004c136c81607e"
   }
  }
 },
 "nbformat": 4,
 "nbformat_minor": 4
}
