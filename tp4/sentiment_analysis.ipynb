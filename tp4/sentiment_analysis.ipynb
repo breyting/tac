{
 "cells": [
  {
   "cell_type": "markdown",
   "metadata": {},
   "source": [
    "# Sentiment analysis avec Textblob-FR"
   ]
  },
  {
   "cell_type": "markdown",
   "metadata": {},
   "source": [
    "### Moyenne des polarité et subjectivité par documents"
   ]
  },
  {
   "cell_type": "code",
   "execution_count": 29,
   "metadata": {},
   "outputs": [],
   "source": [
    "import os\n",
    "import pandas as pd\n",
    "from textblob import TextBlob\n",
    "\n",
    "def calculate_polarity_subjectivity(text):\n",
    "    blob = TextBlob(text)\n",
    "    return 100*blob.sentiment.polarity, 100*(blob.sentiment.subjectivity)\n",
    "\n",
    "results = []\n",
    "directory = \"../data/txt_clean\"\n",
    "for filename in os.listdir(directory):\n",
    "    if filename.endswith(\".txt\"):\n",
    "        year = filename.split('_')[2]  # the year is the third part of the filename\n",
    "        with open(os.path.join(directory, filename), 'r', encoding=\"utf-8\") as file:\n",
    "            text = file.read()\n",
    "            polarity, subjectivity = calculate_polarity_subjectivity(text)\n",
    "            results.append([year, polarity, subjectivity])\n",
    "\n",
    "df = pd.DataFrame(results, columns=['Year', 'Polarity', 'Subjectivity'])\n",
    "mean_df = df.groupby('Year').mean()\n",
    "\n"
   ]
  },
  {
   "cell_type": "code",
   "execution_count": 35,
   "metadata": {},
   "outputs": [
    {
     "name": "stdout",
     "output_type": "stream",
     "text": [
      "The number of texts with 0 polarity and 0 subjectivity is: 445\n",
      "The number of texts with 0 subjectivity and negative polarity is: 6\n",
      "The number of texts with 0 subjectivity and positive polarity is: 28\n",
      "The number of texts with positive subjectivity and negative polarity is: 164\n",
      "The number of texts with positive subjectivity and positive polarity is: 297\n",
      "The number of texts with positive subjectivity and 0 polarity is: 49\n",
      "The number of texts with positive subjectivity and positive polarity is: 297\n"
     ]
    }
   ],
   "source": [
    "count = len(df[(df['Polarity'] == 0) & (df['Subjectivity'] == 0)])\n",
    "print(f\"The number of texts with 0 polarity and 0 subjectivity is: {count}\")\n",
    "\n",
    "negative_count = len(df[df['Polarity'] < 0])\n",
    "positive_count = len(df[df['Polarity'] > 0])\n",
    "zero_subjectivity_negative_polarity_count = len(df[(df['Polarity'] < 0) & (df['Subjectivity'] == 0)])\n",
    "zero_subjectivity_positive_polarity_count = len(df[(df['Polarity'] > 0) & (df['Subjectivity'] == 0)])\n",
    "positive_subjectivity_negative_polarity_count = len(df[(df['Polarity'] < 0) & (df['Subjectivity'] > 0)])\n",
    "positive_subjectivity_positive_polarity_count = len(df[(df['Polarity'] > 0) & (df['Subjectivity'] > 0)])\n",
    "positive_subjectivity_zero_polarity_count = len(df[(df['Polarity'] == 0) & (df['Subjectivity'] > 0)])\n",
    "positive_subjectivity_positive_polarity_count = len(df[(df['Polarity'] > 0) & (df['Subjectivity'] > 0)])\n",
    "\n",
    "print(f\"The number of texts with 0 subjectivity and negative polarity is: {zero_subjectivity_negative_polarity_count}\")\n",
    "print(f\"The number of texts with 0 subjectivity and positive polarity is: {zero_subjectivity_positive_polarity_count}\")\n",
    "print(f\"The number of texts with positive subjectivity and negative polarity is: {positive_subjectivity_negative_polarity_count}\")\n",
    "print(f\"The number of texts with positive subjectivity and positive polarity is: {positive_subjectivity_positive_polarity_count}\")\n",
    "print(f\"The number of texts with positive subjectivity and 0 polarity is: {positive_subjectivity_zero_polarity_count}\")\n",
    "print(f\"The number of texts with positive subjectivity and positive polarity is: {positive_subjectivity_positive_polarity_count}\")\n"
   ]
  },
  {
   "cell_type": "code",
   "execution_count": 31,
   "metadata": {},
   "outputs": [
    {
     "name": "stdout",
     "output_type": "stream",
     "text": [
      "Mean Polarity: 4.316891564864583\n",
      "Mean Subjectivity: 51.14607024943816\n"
     ]
    }
   ],
   "source": [
    "filtered_df = df[(df['Polarity'] != 0) | (df['Subjectivity'] != 0)]\n",
    "mean_polarity = filtered_df['Polarity'].mean()\n",
    "mean_subjectivity = filtered_df['Subjectivity'].mean()\n",
    "\n",
    "print(f\"Mean Polarity: {mean_polarity}\")\n",
    "print(f\"Mean Subjectivity: {mean_subjectivity}\")\n"
   ]
  },
  {
   "cell_type": "markdown",
   "metadata": {},
   "source": [
    "### Analyser le sentiment d'une phrase"
   ]
  },
  {
   "cell_type": "code",
   "execution_count": 17,
   "metadata": {
    "tags": []
   },
   "outputs": [
    {
     "name": "stdout",
     "output_type": "stream",
     "text": [
      "This text is 10% positive and 10% subjective.\n"
     ]
    }
   ],
   "source": [
    "get_sentiment(\"Le principal article à l'ordre du jour est une plainte contre Israël l'accusant La Syrie à VO.lV.U.\")"
   ]
  },
  {
   "cell_type": "code",
   "execution_count": 15,
   "metadata": {
    "tags": []
   },
   "outputs": [
    {
     "name": "stdout",
     "output_type": "stream",
     "text": [
      "This text is 41% negative and 60% subjective.\n"
     ]
    }
   ],
   "source": [
    "get_sentiment(\"Cette phrase est négative et je ne suis pas content !\")"
   ]
  }
 ],
 "metadata": {
  "kernelspec": {
   "display_name": "Python 3.10.5 ('tac_venv': venv)",
   "language": "python",
   "name": "python3"
  },
  "language_info": {
   "codemirror_mode": {
    "name": "ipython",
    "version": 3
   },
   "file_extension": ".py",
   "mimetype": "text/x-python",
   "name": "python",
   "nbconvert_exporter": "python",
   "pygments_lexer": "ipython3",
   "version": "3.9.13"
  },
  "vscode": {
   "interpreter": {
    "hash": "b1932ab1d169b4769d1550e799423b6477588e745f266d79d9004c136c81607e"
   }
  }
 },
 "nbformat": 4,
 "nbformat_minor": 4
}
