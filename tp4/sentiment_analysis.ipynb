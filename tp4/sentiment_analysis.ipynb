{
 "cells": [
  {
   "cell_type": "markdown",
   "metadata": {},
   "source": [
    "# Sentiment analysis avec Textblob-FR"
   ]
  },
  {
   "cell_type": "markdown",
   "metadata": {},
   "source": [
    "### Moyenne des polarités et subjectivités par documents"
   ]
  },
  {
   "cell_type": "code",
   "execution_count": 13,
   "metadata": {},
   "outputs": [
    {
     "data": {
      "text/html": [
       "<div>\n",
       "<style scoped>\n",
       "    .dataframe tbody tr th:only-of-type {\n",
       "        vertical-align: middle;\n",
       "    }\n",
       "\n",
       "    .dataframe tbody tr th {\n",
       "        vertical-align: top;\n",
       "    }\n",
       "\n",
       "    .dataframe thead th {\n",
       "        text-align: right;\n",
       "    }\n",
       "</style>\n",
       "<table border=\"1\" class=\"dataframe\">\n",
       "  <thead>\n",
       "    <tr style=\"text-align: right;\">\n",
       "      <th></th>\n",
       "      <th>Document</th>\n",
       "      <th>Polarity</th>\n",
       "      <th>Subjectivity</th>\n",
       "    </tr>\n",
       "  </thead>\n",
       "  <tbody>\n",
       "    <tr>\n",
       "      <th>0</th>\n",
       "      <td>KB_JB1051_1948-05-24_01-00003.txt</td>\n",
       "      <td>16.666667</td>\n",
       "      <td>33.333333</td>\n",
       "    </tr>\n",
       "    <tr>\n",
       "      <th>1</th>\n",
       "      <td>KB_JB1051_1948-05-27_01-00001.txt</td>\n",
       "      <td>0.000000</td>\n",
       "      <td>0.000000</td>\n",
       "    </tr>\n",
       "    <tr>\n",
       "      <th>2</th>\n",
       "      <td>KB_JB1051_1948-05-31_01-00001.txt</td>\n",
       "      <td>0.000000</td>\n",
       "      <td>0.000000</td>\n",
       "    </tr>\n",
       "    <tr>\n",
       "      <th>3</th>\n",
       "      <td>KB_JB1051_1948-06-02_01-00003.txt</td>\n",
       "      <td>33.333333</td>\n",
       "      <td>55.000000</td>\n",
       "    </tr>\n",
       "    <tr>\n",
       "      <th>4</th>\n",
       "      <td>KB_JB1051_1948-06-05_01-00003.txt</td>\n",
       "      <td>25.000000</td>\n",
       "      <td>62.500000</td>\n",
       "    </tr>\n",
       "    <tr>\n",
       "      <th>...</th>\n",
       "      <td>...</td>\n",
       "      <td>...</td>\n",
       "      <td>...</td>\n",
       "    </tr>\n",
       "    <tr>\n",
       "      <th>984</th>\n",
       "      <td>KB_JB838_1950-09-14_01-00003.txt</td>\n",
       "      <td>0.000000</td>\n",
       "      <td>0.000000</td>\n",
       "    </tr>\n",
       "    <tr>\n",
       "      <th>985</th>\n",
       "      <td>KB_JB838_1950-10-06_01-00003.txt</td>\n",
       "      <td>5.000000</td>\n",
       "      <td>17.500000</td>\n",
       "    </tr>\n",
       "    <tr>\n",
       "      <th>986</th>\n",
       "      <td>KB_JB838_1950-11-10_01-00005.txt</td>\n",
       "      <td>22.500000</td>\n",
       "      <td>70.000000</td>\n",
       "    </tr>\n",
       "    <tr>\n",
       "      <th>987</th>\n",
       "      <td>KB_JB838_1950-11-30_01-00002.txt</td>\n",
       "      <td>-40.000000</td>\n",
       "      <td>70.000000</td>\n",
       "    </tr>\n",
       "    <tr>\n",
       "      <th>988</th>\n",
       "      <td>KB_JB838_1950-12-21_01-00001.txt</td>\n",
       "      <td>0.000000</td>\n",
       "      <td>0.000000</td>\n",
       "    </tr>\n",
       "  </tbody>\n",
       "</table>\n",
       "<p>989 rows × 3 columns</p>\n",
       "</div>"
      ],
      "text/plain": [
       "                              Document   Polarity  Subjectivity\n",
       "0    KB_JB1051_1948-05-24_01-00003.txt  16.666667     33.333333\n",
       "1    KB_JB1051_1948-05-27_01-00001.txt   0.000000      0.000000\n",
       "2    KB_JB1051_1948-05-31_01-00001.txt   0.000000      0.000000\n",
       "3    KB_JB1051_1948-06-02_01-00003.txt  33.333333     55.000000\n",
       "4    KB_JB1051_1948-06-05_01-00003.txt  25.000000     62.500000\n",
       "..                                 ...        ...           ...\n",
       "984   KB_JB838_1950-09-14_01-00003.txt   0.000000      0.000000\n",
       "985   KB_JB838_1950-10-06_01-00003.txt   5.000000     17.500000\n",
       "986   KB_JB838_1950-11-10_01-00005.txt  22.500000     70.000000\n",
       "987   KB_JB838_1950-11-30_01-00002.txt -40.000000     70.000000\n",
       "988   KB_JB838_1950-12-21_01-00001.txt   0.000000      0.000000\n",
       "\n",
       "[989 rows x 3 columns]"
      ]
     },
     "execution_count": 13,
     "metadata": {},
     "output_type": "execute_result"
    }
   ],
   "source": [
    "import os\n",
    "import pandas as pd\n",
    "from textblob import TextBlob\n",
    "\n",
    "def calculate_polarity_subjectivity(text):\n",
    "    blob = TextBlob(text)\n",
    "    return 100*blob.sentiment.polarity, 100*(blob.sentiment.subjectivity)\n",
    "\n",
    "results = []\n",
    "directory = \"../data/txt_clean\"\n",
    "for filename in os.listdir(directory):\n",
    "    if filename.endswith(\".txt\"):\n",
    "        with open(os.path.join(directory, filename), 'r', encoding=\"utf-8\") as file:\n",
    "            text = file.read()\n",
    "            polarity, subjectivity = calculate_polarity_subjectivity(text)\n",
    "            results.append([filename, polarity, subjectivity])\n",
    "\n",
    "df = pd.DataFrame(results, columns=['Document', 'Polarity', 'Subjectivity'])\n",
    "df"
   ]
  },
  {
   "cell_type": "markdown",
   "metadata": {},
   "source": [
    "### Nombre de documents regroupé par polarité et subjectivité"
   ]
  },
  {
   "cell_type": "code",
   "execution_count": 14,
   "metadata": {},
   "outputs": [
    {
     "name": "stdout",
     "output_type": "stream",
     "text": [
      "The number of texts with 0 polarity and 0 subjectivity is: 445\n",
      "The number of texts with 0 subjectivity and negative polarity is: 6\n",
      "The number of texts with 0 subjectivity and positive polarity is: 28\n",
      "The number of texts with positive subjectivity and negative polarity is: 164\n",
      "The number of texts with positive subjectivity and positive polarity is: 297\n",
      "The number of texts with positive subjectivity and 0 polarity is: 49\n",
      "The number of texts with positive subjectivity and positive polarity is: 297\n"
     ]
    }
   ],
   "source": [
    "count = len(df[(df['Polarity'] == 0) & (df['Subjectivity'] == 0)])\n",
    "print(f\"The number of texts with 0 polarity and 0 subjectivity is: {count}\")\n",
    "\n",
    "negative_count = len(df[df['Polarity'] < 0])\n",
    "positive_count = len(df[df['Polarity'] > 0])\n",
    "zero_subjectivity_negative_polarity_count = len(df[(df['Polarity'] < 0) & (df['Subjectivity'] == 0)])\n",
    "zero_subjectivity_positive_polarity_count = len(df[(df['Polarity'] > 0) & (df['Subjectivity'] == 0)])\n",
    "positive_subjectivity_negative_polarity_count = len(df[(df['Polarity'] < 0) & (df['Subjectivity'] > 0)])\n",
    "positive_subjectivity_positive_polarity_count = len(df[(df['Polarity'] > 0) & (df['Subjectivity'] > 0)])\n",
    "positive_subjectivity_zero_polarity_count = len(df[(df['Polarity'] == 0) & (df['Subjectivity'] > 0)])\n",
    "positive_subjectivity_positive_polarity_count = len(df[(df['Polarity'] > 0) & (df['Subjectivity'] > 0)])\n",
    "\n",
    "print(f\"The number of texts with 0 subjectivity and negative polarity is: {zero_subjectivity_negative_polarity_count}\")\n",
    "print(f\"The number of texts with 0 subjectivity and positive polarity is: {zero_subjectivity_positive_polarity_count}\")\n",
    "print(f\"The number of texts with positive subjectivity and negative polarity is: {positive_subjectivity_negative_polarity_count}\")\n",
    "print(f\"The number of texts with positive subjectivity and positive polarity is: {positive_subjectivity_positive_polarity_count}\")\n",
    "print(f\"The number of texts with positive subjectivity and 0 polarity is: {positive_subjectivity_zero_polarity_count}\")\n",
    "print(f\"The number of texts with positive subjectivity and positive polarity is: {positive_subjectivity_positive_polarity_count}\")\n"
   ]
  },
  {
   "cell_type": "code",
   "execution_count": 16,
   "metadata": {},
   "outputs": [
    {
     "name": "stdout",
     "output_type": "stream",
     "text": [
      "Mean Polarity: 4.316891564864583\n",
      "Mean Subjectivity: 51.14607024943816\n",
      "Median Polarity: 6.458333333333334\n",
      "Median Subjectivity: 50.0\n"
     ]
    }
   ],
   "source": [
    "filtered_df = df[(df['Polarity'] != 0) | (df['Subjectivity'] != 0)]\n",
    "mean_polarity = filtered_df['Polarity'].mean()\n",
    "mean_subjectivity = filtered_df['Subjectivity'].mean()\n",
    "\n",
    "print(f\"Mean Polarity: {mean_polarity}\")\n",
    "print(f\"Mean Subjectivity: {mean_subjectivity}\")\n",
    "\n",
    "median_polarity = filtered_df['Polarity'].median()\n",
    "median_subjectivity = filtered_df['Subjectivity'].median()\n",
    "\n",
    "print(f\"Median Polarity: {median_polarity}\")\n",
    "print(f\"Median Subjectivity: {median_subjectivity}\")"
   ]
  },
  {
   "cell_type": "code",
   "execution_count": 17,
   "metadata": {},
   "outputs": [
    {
     "name": "stdout",
     "output_type": "stream",
     "text": [
      "\n",
      "Year: 1948\n",
      "The number of texts with 0 polarity and 0 subjectivity is: 158\n",
      "The number of texts with 0 subjectivity and negative polarity is: 4\n",
      "The number of texts with 0 subjectivity and positive polarity is: 10\n",
      "The number of texts with positive subjectivity and negative polarity is: 75\n",
      "The number of texts with positive subjectivity and positive polarity is: 151\n",
      "The number of texts with positive subjectivity and 0 polarity is: 29\n",
      "\n",
      "Year: 1949\n",
      "The number of texts with 0 polarity and 0 subjectivity is: 217\n",
      "The number of texts with 0 subjectivity and negative polarity is: 1\n",
      "The number of texts with 0 subjectivity and positive polarity is: 14\n",
      "The number of texts with positive subjectivity and negative polarity is: 73\n",
      "The number of texts with positive subjectivity and positive polarity is: 105\n",
      "The number of texts with positive subjectivity and 0 polarity is: 13\n",
      "\n",
      "Year: 1950\n",
      "The number of texts with 0 polarity and 0 subjectivity is: 70\n",
      "The number of texts with 0 subjectivity and negative polarity is: 1\n",
      "The number of texts with 0 subjectivity and positive polarity is: 4\n",
      "The number of texts with positive subjectivity and negative polarity is: 16\n",
      "The number of texts with positive subjectivity and positive polarity is: 41\n",
      "The number of texts with positive subjectivity and 0 polarity is: 7\n"
     ]
    }
   ],
   "source": [
    "def calculate_polarity_subjectivity(text):\n",
    "    blob = TextBlob(text)\n",
    "    return 100*blob.sentiment.polarity, 100*blob.sentiment.subjectivity\n",
    "\n",
    "results = []\n",
    "directory = \"../data/txt_clean\"\n",
    "for filename in os.listdir(directory):\n",
    "    if filename.endswith(\".txt\"):\n",
    "        year = filename.split('_')[2].split('-')[0]  # the year is the third part of the filename\n",
    "        with open(os.path.join(directory, filename), 'r', encoding=\"utf-8\") as file:\n",
    "            text = file.read()\n",
    "            polarity, subjectivity = calculate_polarity_subjectivity(text)\n",
    "            results.append([year, filename, polarity, subjectivity])\n",
    "\n",
    "df = pd.DataFrame(results, columns=['Year', 'Document', 'Polarity', 'Subjectivity'])\n",
    "\n",
    "for year, group in df.groupby('Year'):\n",
    "    print(f\"\\nYear: {year}\")\n",
    "    count = len(group[(group['Polarity'] == 0) & (group['Subjectivity'] == 0)])\n",
    "    print(f\"The number of texts with 0 polarity and 0 subjectivity is: {count}\")\n",
    "\n",
    "    negative_count = len(group[group['Polarity'] < 0])\n",
    "    positive_count = len(group[group['Polarity'] > 0])\n",
    "    zero_subjectivity_negative_polarity_count = len(group[(group['Polarity'] < 0) & (group['Subjectivity'] == 0)])\n",
    "    zero_subjectivity_positive_polarity_count = len(group[(group['Polarity'] > 0) & (group['Subjectivity'] == 0)])\n",
    "    positive_subjectivity_negative_polarity_count = len(group[(group['Polarity'] < 0) & (group['Subjectivity'] > 0)])\n",
    "    positive_subjectivity_positive_polarity_count = len(group[(group['Polarity'] > 0) & (group['Subjectivity'] > 0)])\n",
    "    positive_subjectivity_zero_polarity_count = len(group[(group['Polarity'] == 0) & (group['Subjectivity'] > 0)])\n",
    "\n",
    "    print(f\"The number of texts with 0 subjectivity and negative polarity is: {zero_subjectivity_negative_polarity_count}\")\n",
    "    print(f\"The number of texts with 0 subjectivity and positive polarity is: {zero_subjectivity_positive_polarity_count}\")\n",
    "    print(f\"The number of texts with positive subjectivity and negative polarity is: {positive_subjectivity_negative_polarity_count}\")\n",
    "    print(f\"The number of texts with positive subjectivity and positive polarity is: {positive_subjectivity_positive_polarity_count}\")\n",
    "    print(f\"The number of texts with positive subjectivity and 0 polarity is: {positive_subjectivity_zero_polarity_count}\")"
   ]
  },
  {
   "cell_type": "code",
   "execution_count": 18,
   "metadata": {},
   "outputs": [
    {
     "name": "stdout",
     "output_type": "stream",
     "text": [
      "\n",
      "Year: 1948\n",
      "The percentage of texts with 0 polarity and 0 subjectivity is: 37.00234192037471%\n",
      "The percentage of texts with 0 subjectivity and negative polarity is: 0.936768149882904%\n",
      "The percentage of texts with 0 subjectivity and positive polarity is: 2.3419203747072603%\n",
      "The percentage of texts with positive subjectivity and negative polarity is: 17.56440281030445%\n",
      "The percentage of texts with positive subjectivity and positive polarity is: 35.36299765807963%\n",
      "The percentage of texts with positive subjectivity and 0 polarity is: 6.791569086651054%\n",
      "\n",
      "Year: 1949\n",
      "The percentage of texts with 0 polarity and 0 subjectivity is: 51.30023640661938%\n",
      "The percentage of texts with 0 subjectivity and negative polarity is: 0.2364066193853428%\n",
      "The percentage of texts with 0 subjectivity and positive polarity is: 3.309692671394799%\n",
      "The percentage of texts with positive subjectivity and negative polarity is: 17.257683215130022%\n",
      "The percentage of texts with positive subjectivity and positive polarity is: 24.822695035460992%\n",
      "The percentage of texts with positive subjectivity and 0 polarity is: 3.0732860520094563%\n",
      "\n",
      "Year: 1950\n",
      "The percentage of texts with 0 polarity and 0 subjectivity is: 50.35971223021583%\n",
      "The percentage of texts with 0 subjectivity and negative polarity is: 0.7194244604316548%\n",
      "The percentage of texts with 0 subjectivity and positive polarity is: 2.877697841726619%\n",
      "The percentage of texts with positive subjectivity and negative polarity is: 11.510791366906476%\n",
      "The percentage of texts with positive subjectivity and positive polarity is: 29.496402877697843%\n",
      "The percentage of texts with positive subjectivity and 0 polarity is: 5.0359712230215825%\n"
     ]
    }
   ],
   "source": [
    "results = []\n",
    "directory = \"../data/txt_clean\"\n",
    "for filename in os.listdir(directory):\n",
    "    if filename.endswith(\".txt\"):\n",
    "        year = filename.split('_')[2].split('-')[0]  # the year is the third part of the filename\n",
    "        with open(os.path.join(directory, filename), 'r', encoding=\"utf-8\") as file:\n",
    "            text = file.read()\n",
    "            polarity, subjectivity = calculate_polarity_subjectivity(text)\n",
    "            results.append([year, filename, polarity, subjectivity])\n",
    "\n",
    "df = pd.DataFrame(results, columns=['Year', 'Document', 'Polarity', 'Subjectivity'])\n",
    "\n",
    "for year, group in df.groupby('Year'):\n",
    "    print(f\"\\nYear: {year}\")\n",
    "    total_docs = len(group)\n",
    "    count = len(group[(group['Polarity'] == 0) & (group['Subjectivity'] == 0)])\n",
    "    print(f\"The percentage of texts with 0 polarity and 0 subjectivity is: {count/total_docs*100}%\")\n",
    "\n",
    "    negative_count = len(group[group['Polarity'] < 0])\n",
    "    positive_count = len(group[group['Polarity'] > 0])\n",
    "    zero_subjectivity_negative_polarity_count = len(group[(group['Polarity'] < 0) & (group['Subjectivity'] == 0)])\n",
    "    zero_subjectivity_positive_polarity_count = len(group[(group['Polarity'] > 0) & (group['Subjectivity'] == 0)])\n",
    "    positive_subjectivity_negative_polarity_count = len(group[(group['Polarity'] < 0) & (group['Subjectivity'] > 0)])\n",
    "    positive_subjectivity_positive_polarity_count = len(group[(group['Polarity'] > 0) & (group['Subjectivity'] > 0)])\n",
    "    positive_subjectivity_zero_polarity_count = len(group[(group['Polarity'] == 0) & (group['Subjectivity'] > 0)])\n",
    "\n",
    "    print(f\"The percentage of texts with 0 subjectivity and negative polarity is: {zero_subjectivity_negative_polarity_count/total_docs*100}%\")\n",
    "    print(f\"The percentage of texts with 0 subjectivity and positive polarity is: {zero_subjectivity_positive_polarity_count/total_docs*100}%\")\n",
    "    print(f\"The percentage of texts with positive subjectivity and negative polarity is: {positive_subjectivity_negative_polarity_count/total_docs*100}%\")\n",
    "    print(f\"The percentage of texts with positive subjectivity and positive polarity is: {positive_subjectivity_positive_polarity_count/total_docs*100}%\")\n",
    "    print(f\"The percentage of texts with positive subjectivity and 0 polarity is: {positive_subjectivity_zero_polarity_count/total_docs*100}%\")"
   ]
  }
 ],
 "metadata": {
  "kernelspec": {
   "display_name": "Python 3.10.5 ('tac_venv': venv)",
   "language": "python",
   "name": "python3"
  },
  "language_info": {
   "codemirror_mode": {
    "name": "ipython",
    "version": 3
   },
   "file_extension": ".py",
   "mimetype": "text/x-python",
   "name": "python",
   "nbconvert_exporter": "python",
   "pygments_lexer": "ipython3",
   "version": "3.9.13"
  },
  "vscode": {
   "interpreter": {
    "hash": "b1932ab1d169b4769d1550e799423b6477588e745f266d79d9004c136c81607e"
   }
  }
 },
 "nbformat": 4,
 "nbformat_minor": 4
}
